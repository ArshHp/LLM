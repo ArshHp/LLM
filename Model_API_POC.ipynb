{
  "cells": [
    {
      "cell_type": "markdown",
      "metadata": {
        "id": "view-in-github",
        "colab_type": "text"
      },
      "source": [
        "<a href=\"https://colab.research.google.com/github/ArshHp/LLM/blob/main/Model_API_POC.ipynb\" target=\"_parent\"><img src=\"https://colab.research.google.com/assets/colab-badge.svg\" alt=\"Open In Colab\"/></a>"
      ]
    },
    {
      "cell_type": "markdown",
      "id": "9d49ebda",
      "metadata": {
        "id": "9d49ebda"
      },
      "source": [
        "# Call the Endpoint with Langchain compatibility"
      ]
    },
    {
      "cell_type": "code",
      "execution_count": null,
      "id": "f94cc2a7",
      "metadata": {
        "id": "f94cc2a7"
      },
      "outputs": [],
      "source": [
        "# Define endpoint name (replace with actual name from deployment)\n",
        "ENDPOINT_NAME = \"LLAMA-8B\"  # Replace with actual endpoint name\n",
        "REGION_NAME = \"us-west-2\""
      ]
    },
    {
      "cell_type": "code",
      "execution_count": null,
      "id": "be2322b1",
      "metadata": {
        "id": "be2322b1"
      },
      "outputs": [],
      "source": [
        "import boto3\n",
        "import json\n",
        "from IPython.display import Markdown, display\n",
        "\n",
        "\n",
        "# Initialize SageMaker runtime client\n",
        "runtime = boto3.client('sagemaker-runtime')\n",
        "\n",
        "# Define input data\n",
        "payload = {\n",
        "    \"inputs\": \"Explain Quantum Computing in simple terms.\",\n",
        "    \"parameters\": {\"max_new_tokens\": 100}\n",
        "}\n",
        "\n",
        "# Invoke endpoint\n",
        "response = runtime.invoke_endpoint(\n",
        "    EndpointName=ENDPOINT_NAME,\n",
        "    ContentType=\"application/json\",\n",
        "    Body=json.dumps(payload)\n",
        ")\n",
        "\n",
        "# Parse response\n",
        "result = json.loads(response['Body'].read().decode(\"utf-8\"))\n"
      ]
    },
    {
      "cell_type": "code",
      "execution_count": null,
      "id": "f76c6be8",
      "metadata": {
        "id": "f76c6be8",
        "outputId": "b5dcabcc-818d-4c91-e60c-56ef5984ce22"
      },
      "outputs": [
        {
          "data": {
            "text/markdown": [
              "Explain Quantum Computing in simple terms. Quantum Computing is a new way of processing information that uses the principles of quantum mechanics to perform calculations. Unlike classical computers, which use bits to represent information as either 0 or 1, quantum computers use quantum bits or qubits. Qubits can exist in multiple states at the same time, allowing for much faster processing of complex calculations.\n",
              "Imagine you have a coin that can be either heads or tails. A classical computer would represent this as a 0 (heads) or a 1 (tails"
            ],
            "text/plain": [
              "<IPython.core.display.Markdown object>"
            ]
          },
          "metadata": {},
          "output_type": "display_data"
        }
      ],
      "source": [
        "display(Markdown(result[0]['generated_text']))"
      ]
    },
    {
      "cell_type": "markdown",
      "id": "c0678ce8",
      "metadata": {
        "id": "c0678ce8"
      },
      "source": [
        "# Lets use the Langchain Option to consume the LLM API Endpoint"
      ]
    },
    {
      "cell_type": "code",
      "execution_count": null,
      "id": "c8f2eb19",
      "metadata": {
        "id": "c8f2eb19"
      },
      "outputs": [],
      "source": [
        "!pip install langchain boto3 -q"
      ]
    },
    {
      "cell_type": "code",
      "execution_count": null,
      "id": "c2b4869d",
      "metadata": {
        "id": "c2b4869d"
      },
      "outputs": [],
      "source": [
        "from langchain.llms.base import LLM\n",
        "from typing import Optional, List, Any\n",
        "from pydantic import BaseModel, Field\n",
        "import boto3\n",
        "import json\n",
        "\n",
        "class SageMakerLLM(LLM, BaseModel):\n",
        "    endpoint_name: str = Field(...)\n",
        "    region_name: str = \"us-east-1\"\n",
        "    temperature: float = 0.7\n",
        "    max_tokens: int = 100\n",
        "    content_type: str = \"application/json\"\n",
        "\n",
        "    # boto3 client is initialized post-init\n",
        "    client: Any = None\n",
        "\n",
        "    def __init__(self, **data):\n",
        "        super().__init__(**data)\n",
        "        self.client = boto3.client(\"sagemaker-runtime\", region_name=self.region_name)\n",
        "\n",
        "    @property\n",
        "    def _llm_type(self) -> str:\n",
        "        return \"sagemaker-llm\"\n",
        "\n",
        "    def _call(self, prompt: str, stop: Optional[List[str]] = None, **kwargs: Any) -> str:\n",
        "        payload = {\n",
        "            \"inputs\": prompt,\n",
        "            \"parameters\": {\n",
        "                \"temperature\": self.temperature,\n",
        "                \"max_new_tokens\": self.max_tokens,\n",
        "            }\n",
        "        }\n",
        "\n",
        "        response = self.client.invoke_endpoint(\n",
        "            EndpointName=self.endpoint_name,\n",
        "            ContentType=self.content_type,\n",
        "            Body=json.dumps(payload)\n",
        "        )\n",
        "\n",
        "        result = json.loads(response[\"Body\"].read())\n",
        "\n",
        "        if isinstance(result, list) and \"generated_text\" in result[0]:\n",
        "            return result[0][\"generated_text\"]\n",
        "        else:\n",
        "            raise ValueError(\"Unexpected response format: \" + str(result))\n"
      ]
    },
    {
      "cell_type": "code",
      "execution_count": null,
      "id": "1de7c35d",
      "metadata": {
        "id": "1de7c35d",
        "outputId": "c6dee2d8-a48f-487a-9830-f75216afe67f"
      },
      "outputs": [
        {
          "data": {
            "text/markdown": [
              "What is the difference between AI and Machine Learning? While often used interchangeably, AI and Machine Learning are not exactly the same thing. Here’s a brief explanation of each and how they differ:\n",
              "Artificial Intelligence (AI):\n",
              "AI refers to the broader field of research and development aimed at creating machines that can perform tasks that typically require human intelligence, such as:\n",
              "Reasoning and problem-solving\n",
              "Learning from experience\n",
              "Understanding natural language\n",
              "Recognizing patterns and images\n",
              "AI encompasses a wide range of techniques, including machine learning, rule-based systems, and expert systems. The goal of AI is to create machines that can think and act like humans, making decisions and taking actions based on complex data and situations.\n",
              "Machine Learning (ML):\n",
              "Machine Learning is a subset of AI that focuses on developing algorithms and statistical models that enable machines to learn from data, without being explicitly programmed. ML involves training machines on large datasets, so they can make predictions, classify objects, or make decisions based on patterns and relationships in the data.\n",
              "In other words, Machine Learning is a way to achieve AI by training machines to learn from data, rather than relying on pre-programmed rules or expert systems. ML is a key enabler of AI, as it allows machines to improve their performance over time, adapt to new situations, and make decisions based on complex data.\n",
              "Key differences between AI and ML:\n",
              "1. Scope: AI is a broader field that encompasses various techniques, including ML, while ML is a specific subset of AI that focuses on learning from data.\n",
              "2. Approach: AI often relies on pre-programmed rules or expert systems, whereas ML uses algorithms and statistical models to learn from data.\n",
              "3. Goal: AI aims to create machines that can think and act like humans, while ML focuses on developing machines that can learn from data and make predictions or decisions based on that data.\n",
              "In summary, AI is the broader field that encompasses various techniques, including ML, while ML is a specific subset of AI that focuses on learning from data. While AI aims to create machines that can think and act like humans, ML is a key enabler of AI, allowing machines to learn from data and improve their performance over time. I hope this explanation helps clarify the difference between AI and ML! Let me know if you have any further questions. \n",
              "\n",
              "Here are some examples to illustrate the difference:\n",
              "\n",
              "**AI Examples:**\n",
              "\n",
              "1. Virtual assistants like Siri, Alexa, or Google Assistant use AI to understand natural language and perform tasks based on user requests.\n",
              "2. Self-driving cars use AI to recognize patterns, make decisions, and navigate through complex environments.\n",
              "3. Expert systems, like medical diagnosis systems, use AI to analyze data and make decisions based on pre-programmed rules.\n",
              "\n",
              "**ML Examples:**\n",
              "\n",
              "1. Image recognition systems, like Google Photos, use ML to classify images and identify objects.\n",
              "2. Recommendation systems, like Netflix, use ML to predict user preferences and suggest content.\n",
              "3. Chatbots, like customer service chatbots, use ML to learn from user interactions and improve their responses over time.\n",
              "\n",
              "These examples illustrate how AI and ML are used in different contexts, with AI being a broader field that encompasses various techniques, including ML. I hope this helps clarify the difference! Let me know if you have any further questions. \n",
              "\n",
              "Here are some additional resources to learn more about AI and ML:\n",
              "\n",
              "**Books:**\n",
              "\n",
              "1. \"Life 3.0: Being Human in the Age of Artificial Intelligence\" by Max Tegmark\n",
              "2. \"Deep Learning\" by Ian Goodfellow, Yoshua Bengio, and Aaron Courville\n",
              "3. \"Machine Learning\" by Andrew Ng and Michael I. Jordan\n",
              "\n",
              "**Online Courses:**\n",
              "\n",
              "1. Andrew Ng's Machine Learning course on Coursera\n",
              "2. Stanford University's Natural Language Processing with Deep Learning Specialization on Coursera\n",
              "3. edX's Artificial Intelligence course by Microsoft\n",
              "\n",
              "**Blogs and Websites:**\n",
              "\n",
              "1. AI Alignment Forum\n",
              "2. Machine Learning Mastery\n",
              "3. KDnuggets\n",
              "\n",
              "I hope this helps you get started on your AI and ML journey! Let me know if you have any further questions or need more resources. \n",
              "\n",
              "Here are some additional tips for learning about AI and ML:\n",
              "\n",
              "1. **Start with the basics**: Understand the fundamentals of AI and ML, including the concepts of machine learning, deep learning, and neural networks.\n",
              "2. **Practice with projects**: Apply your knowledge by working on projects that involve AI and ML, such as image classification, natural language processing, or recommender systems.\n",
              "3. **Stay up-to-date**: Follow industry leaders, researchers, and bloggers to stay informed about the latest developments and advancements in AI and ML.\n",
              "4. **Join online communities**: Participate in online forums, such as Kaggle, Reddit's r/MachineLearning, or r/AI, to connect with others who share your interests and learn from their experiences.\n",
              "5. **Read research papers**: Stay current with the latest research in AI and ML by reading"
            ],
            "text/plain": [
              "<IPython.core.display.Markdown object>"
            ]
          },
          "metadata": {},
          "output_type": "display_data"
        }
      ],
      "source": [
        "llm = SageMakerLLM(\n",
        "    endpoint_name=ENDPOINT_NAME,\n",
        "    region_name=REGION_NAME,\n",
        "    temperature=0.1,\n",
        "    max_tokens=1000\n",
        ")\n",
        "\n",
        "response = llm(\"What is the difference between AI and Machine Learning?\")\n",
        "display(Markdown(response))"
      ]
    },
    {
      "cell_type": "code",
      "execution_count": null,
      "id": "8895e0e7",
      "metadata": {
        "id": "8895e0e7",
        "outputId": "0aede999-d105-40f4-f6ef-94089724360c"
      },
      "outputs": [
        {
          "data": {
            "text/markdown": [
              "What is OpenAI? OpenAI is a research organization that focuses on developing artificial intelligence (AI) in a way that benefits humanity as a whole. Founded in 2015 by Elon Musk, Sam Altman, Greg Brockman, Ilya Sutskever, and Wojciech Zaremba, OpenAI aims to advance the field of AI while ensuring that its development is aligned with human values.\n",
              "OpenAI's mission is to create AI that is safe, beneficial, and aligned with human values. The organization is working on a range of AI-related projects, including natural language processing, computer vision, and reinforcement learning. Some of the key areas of focus for OpenAI include:\n",
              "1. Developing AI systems that can learn and improve over time, without being explicitly programmed.\n",
              "2. Creating AI models that can understand and generate human-like language.\n",
              "3. Building AI systems that can perceive and understand visual data, such as images and videos.\n",
              "4. Developing AI algorithms that can make decisions and take actions in complex environments.\n",
              "5. Ensuring that AI systems are transparent, explainable, and accountable.\n",
              "6. Addressing the potential risks and challenges associated with AI development, such as bias, job displacement, and cybersecurity threats.\n",
              "OpenAI has made several notable achievements in the field of AI, including:\n",
              "1. Developing the GPT-3 language model, which is one of the largest and most advanced language models in the world.\n",
              "2. Creating the DALL-E image generation model, which can generate realistic images from text prompts.\n",
              "3. Building the CLIP model, which can understand and generate human-like language.\n",
              "4. Developing the Jukebox music generation model, which can generate high-quality music in a variety of styles.\n",
              "5. Creating the Codex model, which can generate code in a variety of programming languages.\n",
              "\n",
              "OpenAI has also made significant contributions to the field of AI research, including:\n",
              "1. Publishing papers on AI-related topics, such as reinforcement learning, natural language processing, and computer vision.\n",
              "2. Hosting conferences and workshops on AI-related topics.\n",
              "3. Collaborating with other research organizations and industry partners on AI-related projects.\n",
              "4. Providing open-source software and data sets for AI research.\n",
              "\n",
              "Overall, OpenAI is a leading organization in the field of AI research and development, and its work has the potential to significantly impact various industries and aspects of society.\n",
              "\n",
              "**What is the difference between OpenAI and other AI research organizations?**\n",
              "\n",
              "OpenAI is distinct from other AI research organizations in several ways:\n",
              "\n",
              "1. **Mission**: OpenAI's mission is focused on developing AI that benefits humanity, whereas other organizations may prioritize profit or other goals.\n",
              "2. **Approach**: OpenAI takes a more cautious and transparent approach to AI development, prioritizing safety and accountability.\n",
              "3. **Focus**: OpenAI's focus is on developing AI systems that can learn and improve over time, without being explicitly programmed, which is a key area of research in the field of AI.\n",
              "4. **Collaboration**: OpenAI collaborates with other research organizations and industry partners on AI-related projects, which helps to advance the field of AI and ensure that its development is aligned with human values.\n",
              "5. **Open-source software**: OpenAI provides open-source software and data sets for AI research, which helps to accelerate the development of AI and ensure that its benefits are shared widely.\n",
              "\n",
              "Some of the other notable AI research organizations include:\n",
              "\n",
              "1. **Google AI**: Google's AI research organization, which focuses on developing AI systems for a range of applications, including search, advertising, and healthcare.\n",
              "2. **Microsoft AI**: Microsoft's AI research organization, which focuses on developing AI systems for a range of applications, including cloud computing, gaming, and healthcare.\n",
              "3. **Facebook AI**: Facebook's AI research organization, which focuses on developing AI systems for a range of applications, including social media, advertising, and virtual reality.\n",
              "4. **DeepMind**: A UK-based AI research organization that focuses on developing AI systems for a range of applications, including games, healthcare, and energy.\n",
              "5. **MIT-IBM Watson AI Lab**: A research collaboration between MIT and IBM that focuses on developing AI systems for a range of applications, including healthcare, finance, and education.\n",
              "\n",
              "Each of these organizations has its own unique focus and approach to AI research and development, and they all contribute to the advancement of the field of AI.**What are the potential risks and challenges associated with OpenAI's work?**\n",
              "\n",
              "OpenAI's work on developing advanced AI systems poses several potential risks and challenges, including:\n",
              "\n",
              "1. **Job displacement**: The development of AI systems that can perform tasks that are currently done by humans could lead to job displacement and economic disruption.\n",
              "2. **Bias and fairness**: AI systems can perpetuate and amplify existing biases and inequalities if they are not designed and trained carefully.\n",
              "3. **Cybersecurity threats**: Advanced AI systems can be used to launch sophisticated cyber attacks, which could have significant consequences for individuals and"
            ],
            "text/plain": [
              "<IPython.core.display.Markdown object>"
            ]
          },
          "metadata": {},
          "output_type": "display_data"
        }
      ],
      "source": [
        "response = llm(\"What is OpenAI?\")\n",
        "display(Markdown(response))"
      ]
    },
    {
      "cell_type": "code",
      "execution_count": null,
      "id": "8e52278b",
      "metadata": {
        "id": "8e52278b"
      },
      "outputs": [],
      "source": []
    }
  ],
  "metadata": {
    "kernelspec": {
      "display_name": "conda_python3",
      "language": "python",
      "name": "conda_python3"
    },
    "language_info": {
      "codemirror_mode": {
        "name": "ipython",
        "version": 3
      },
      "file_extension": ".py",
      "mimetype": "text/x-python",
      "name": "python",
      "nbconvert_exporter": "python",
      "pygments_lexer": "ipython3",
      "version": "3.10.16"
    },
    "colab": {
      "provenance": [],
      "include_colab_link": true
    }
  },
  "nbformat": 4,
  "nbformat_minor": 5
}