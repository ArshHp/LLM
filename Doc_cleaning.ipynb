{
  "nbformat": 4,
  "nbformat_minor": 0,
  "metadata": {
    "colab": {
      "provenance": [],
      "authorship_tag": "ABX9TyPxwgijbiKf6KdnPZEZaWaj",
      "include_colab_link": true
    },
    "kernelspec": {
      "name": "python3",
      "display_name": "Python 3"
    },
    "language_info": {
      "name": "python"
    }
  },
  "cells": [
    {
      "cell_type": "markdown",
      "metadata": {
        "id": "view-in-github",
        "colab_type": "text"
      },
      "source": [
        "<a href=\"https://colab.research.google.com/github/ArshHp/LLM/blob/main/Doc_cleaning.ipynb\" target=\"_parent\"><img src=\"https://colab.research.google.com/assets/colab-badge.svg\" alt=\"Open In Colab\"/></a>"
      ]
    },
    {
      "cell_type": "code",
      "execution_count": null,
      "metadata": {
        "id": "odE4CSlSA1zz"
      },
      "outputs": [],
      "source": []
    },
    {
      "cell_type": "code",
      "source": [
        "!pip install python-docx -q"
      ],
      "metadata": {
        "colab": {
          "base_uri": "https://localhost:8080/"
        },
        "id": "r88k-r-ACNvz",
        "outputId": "7194f18c-6b44-4b2a-b858-c82442a30e0f"
      },
      "execution_count": 2,
      "outputs": [
        {
          "output_type": "stream",
          "name": "stdout",
          "text": [
            "\u001b[?25l   \u001b[90m━━━━━━━━━━━━━━━━━━━━━━━━━━━━━━━━━━━━━━━━\u001b[0m \u001b[32m0.0/244.3 kB\u001b[0m \u001b[31m?\u001b[0m eta \u001b[36m-:--:--\u001b[0m\r\u001b[2K   \u001b[90m━━━━━━━━━━━━━━━━━━━━━━━━━━━━━━━━━━━━━━━━\u001b[0m \u001b[32m244.3/244.3 kB\u001b[0m \u001b[31m13.2 MB/s\u001b[0m eta \u001b[36m0:00:00\u001b[0m\n",
            "\u001b[?25h"
          ]
        }
      ]
    },
    {
      "cell_type": "code",
      "source": [
        "import os\n",
        "import docx"
      ],
      "metadata": {
        "id": "lr9MCpYuA4fP"
      },
      "execution_count": 3,
      "outputs": []
    },
    {
      "cell_type": "code",
      "source": [
        "#How to access the file from drive\n",
        "from google.colab import drive\n",
        "drive.mount('/content/drive')\n"
      ],
      "metadata": {
        "colab": {
          "base_uri": "https://localhost:8080/"
        },
        "id": "J_F8shUeBlIS",
        "outputId": "c226b50a-5a6b-45c1-b4b1-ed395530a22d"
      },
      "execution_count": 4,
      "outputs": [
        {
          "output_type": "stream",
          "name": "stdout",
          "text": [
            "Mounted at /content/drive\n"
          ]
        }
      ]
    },
    {
      "cell_type": "code",
      "source": [
        "def clean_text(text):\n",
        "    \"\"\"Removes unwanted headers, footers, and index tables from the text.\"\"\"\n",
        "    lines = text.split(\"\\n\")\n",
        "    cleaned_lines = [line for line in lines if not line.strip().isdigit() and len(line.strip()) > 2]\n",
        "    return \"\\n\".join(cleaned_lines)"
      ],
      "metadata": {
        "id": "I7CydqfCFy-f"
      },
      "execution_count": 6,
      "outputs": []
    },
    {
      "cell_type": "code",
      "source": [
        "def load_docx_files(input_dir, output_dir, max_files=None):\n",
        "    \"\"\"\n",
        "    Loads a limited number of .docx files from the specified directory, cleans the text, and saves it as a .txt file.\n",
        "\n",
        "    :param input_dir: Path to the directory containing .docx files.\n",
        "    :param output_dir: Path to the directory where cleaned text files will be saved.\n",
        "    :param max_files: Maximum number of files to read at a time (default is None, meaning all files).\n",
        "    \"\"\"\n",
        "    if not os.path.exists(output_dir):\n",
        "        os.makedirs(output_dir)\n",
        "\n",
        "    if not os.path.exists(input_dir):\n",
        "        print(f\"Directory '{input_dir}' does not exist.\")\n",
        "        return\n",
        "\n",
        "    docx_files = [f for f in os.listdir(input_dir) if f.endswith(\".docx\")]\n",
        "\n",
        "    if max_files:\n",
        "        docx_files = docx_files[:max_files]\n",
        "\n",
        "    for filename in docx_files:\n",
        "        file_path = os.path.join(input_dir, filename)\n",
        "        try:\n",
        "            doc = docx.Document(file_path)\n",
        "            text = \"\\n\".join([para.text for para in doc.paragraphs])\n",
        "            cleaned_text = clean_text(text)\n",
        "\n",
        "            output_file_path = os.path.join(output_dir, filename.replace(\".docx\", \".txt\"))\n",
        "            with open(output_file_path, \"w\", encoding=\"utf-8\") as txt_file:\n",
        "                txt_file.write(cleaned_text)\n",
        "\n",
        "            print(f\"Processed and saved: {output_file_path}\")\n",
        "        except Exception as e:\n",
        "            print(f\"Error reading {filename}: {e}\")"
      ],
      "metadata": {
        "id": "vSyx3TA8F0lO"
      },
      "execution_count": 8,
      "outputs": []
    },
    {
      "cell_type": "code",
      "source": [
        "if __name__ == \"__main__\":\n",
        "    input_directory =  'drive/My Drive/temp/Apostilas'  # Change this to your input directory path\n",
        "    output_directory = \"drive/My Drive/temp/Apostilas/output_texts/\"  # Change this to your output directory path\n",
        "    max_files_to_read = 5  # Set the maximum number of files to process\n",
        "    load_docx_files(input_directory, output_directory, max_files=max_files_to_read)\n",
        "\n",
        ""
      ],
      "metadata": {
        "colab": {
          "base_uri": "https://localhost:8080/"
        },
        "id": "GEeDAIJbGClK",
        "outputId": "ecc65f00-bf82-4c50-e17f-6127b091c875"
      },
      "execution_count": 10,
      "outputs": [
        {
          "output_type": "stream",
          "name": "stdout",
          "text": [
            "Processed and saved: drive/My Drive/temp/Apostilas/output_texts/4.1 - EPROC MAGISTRADOS - Eventos - Introdução_30.01.2025.txt\n",
            "Processed and saved: drive/My Drive/temp/Apostilas/output_texts/6.1 - EPROC MAGISTRADOS - Assinaturas - Painel do magistrado_30.01.2025.txt\n",
            "Processed and saved: drive/My Drive/temp/Apostilas/output_texts/6.2 - EPROC MAGISTRADOS - Assinaturas - Localização das Minutas para Assinar_30.01.2025.txt\n",
            "Processed and saved: drive/My Drive/temp/Apostilas/output_texts/6.4 - EPROC MAGISTRADOS - Assinaturas - Visualização e Assinatura das minutas_30.01.2025.txt\n",
            "Processed and saved: drive/My Drive/temp/Apostilas/output_texts/6.3 - EPROC MAGISTRADOS - Assinaturas - Minuta Área de Trabalho_30.01.2025.txt\n"
          ]
        }
      ]
    }
  ]
}