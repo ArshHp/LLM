{
  "nbformat": 4,
  "nbformat_minor": 0,
  "metadata": {
    "colab": {
      "provenance": [],
      "authorship_tag": "ABX9TyPL0Zk2VuzU9U8FgwR4eBE6",
      "include_colab_link": true
    },
    "kernelspec": {
      "name": "python3",
      "display_name": "Python 3"
    },
    "language_info": {
      "name": "python"
    },
    "widgets": {
      "application/vnd.jupyter.widget-state+json": {
        "2ea5c3fb9658432abbc7dab6e7cbfd98": {
          "model_module": "@jupyter-widgets/controls",
          "model_name": "HBoxModel",
          "model_module_version": "1.5.0",
          "state": {
            "_dom_classes": [],
            "_model_module": "@jupyter-widgets/controls",
            "_model_module_version": "1.5.0",
            "_model_name": "HBoxModel",
            "_view_count": null,
            "_view_module": "@jupyter-widgets/controls",
            "_view_module_version": "1.5.0",
            "_view_name": "HBoxView",
            "box_style": "",
            "children": [
              "IPY_MODEL_162902972d1642fe8905120728357a48",
              "IPY_MODEL_aaf8b1bcf9474e1c9c768573ba4dd9f0",
              "IPY_MODEL_594913dd49094f2a8ca823b0f5cff949"
            ],
            "layout": "IPY_MODEL_ca19442da4ff4425a9fc7ea34d6bded8"
          }
        },
        "162902972d1642fe8905120728357a48": {
          "model_module": "@jupyter-widgets/controls",
          "model_name": "HTMLModel",
          "model_module_version": "1.5.0",
          "state": {
            "_dom_classes": [],
            "_model_module": "@jupyter-widgets/controls",
            "_model_module_version": "1.5.0",
            "_model_name": "HTMLModel",
            "_view_count": null,
            "_view_module": "@jupyter-widgets/controls",
            "_view_module_version": "1.5.0",
            "_view_name": "HTMLView",
            "description": "",
            "description_tooltip": null,
            "layout": "IPY_MODEL_6d59514287734cce940bd906bbfec1a1",
            "placeholder": "​",
            "style": "IPY_MODEL_1063d40d98ee467ab6fe0a2bc7c58ad6",
            "value": "tokenizer_config.json: 100%"
          }
        },
        "aaf8b1bcf9474e1c9c768573ba4dd9f0": {
          "model_module": "@jupyter-widgets/controls",
          "model_name": "FloatProgressModel",
          "model_module_version": "1.5.0",
          "state": {
            "_dom_classes": [],
            "_model_module": "@jupyter-widgets/controls",
            "_model_module_version": "1.5.0",
            "_model_name": "FloatProgressModel",
            "_view_count": null,
            "_view_module": "@jupyter-widgets/controls",
            "_view_module_version": "1.5.0",
            "_view_name": "ProgressView",
            "bar_style": "success",
            "description": "",
            "description_tooltip": null,
            "layout": "IPY_MODEL_abeefb8510274cdb848e0ce34188bbe7",
            "max": 356,
            "min": 0,
            "orientation": "horizontal",
            "style": "IPY_MODEL_44a8deb6083f4d539ebebd344c1cb6c1",
            "value": 356
          }
        },
        "594913dd49094f2a8ca823b0f5cff949": {
          "model_module": "@jupyter-widgets/controls",
          "model_name": "HTMLModel",
          "model_module_version": "1.5.0",
          "state": {
            "_dom_classes": [],
            "_model_module": "@jupyter-widgets/controls",
            "_model_module_version": "1.5.0",
            "_model_name": "HTMLModel",
            "_view_count": null,
            "_view_module": "@jupyter-widgets/controls",
            "_view_module_version": "1.5.0",
            "_view_name": "HTMLView",
            "description": "",
            "description_tooltip": null,
            "layout": "IPY_MODEL_10e27e761f8548558f970f74fbe51d5d",
            "placeholder": "​",
            "style": "IPY_MODEL_298b008789e04d29936ed199d621376d",
            "value": " 356/356 [00:00&lt;00:00, 19.1kB/s]"
          }
        },
        "ca19442da4ff4425a9fc7ea34d6bded8": {
          "model_module": "@jupyter-widgets/base",
          "model_name": "LayoutModel",
          "model_module_version": "1.2.0",
          "state": {
            "_model_module": "@jupyter-widgets/base",
            "_model_module_version": "1.2.0",
            "_model_name": "LayoutModel",
            "_view_count": null,
            "_view_module": "@jupyter-widgets/base",
            "_view_module_version": "1.2.0",
            "_view_name": "LayoutView",
            "align_content": null,
            "align_items": null,
            "align_self": null,
            "border": null,
            "bottom": null,
            "display": null,
            "flex": null,
            "flex_flow": null,
            "grid_area": null,
            "grid_auto_columns": null,
            "grid_auto_flow": null,
            "grid_auto_rows": null,
            "grid_column": null,
            "grid_gap": null,
            "grid_row": null,
            "grid_template_areas": null,
            "grid_template_columns": null,
            "grid_template_rows": null,
            "height": null,
            "justify_content": null,
            "justify_items": null,
            "left": null,
            "margin": null,
            "max_height": null,
            "max_width": null,
            "min_height": null,
            "min_width": null,
            "object_fit": null,
            "object_position": null,
            "order": null,
            "overflow": null,
            "overflow_x": null,
            "overflow_y": null,
            "padding": null,
            "right": null,
            "top": null,
            "visibility": null,
            "width": null
          }
        },
        "6d59514287734cce940bd906bbfec1a1": {
          "model_module": "@jupyter-widgets/base",
          "model_name": "LayoutModel",
          "model_module_version": "1.2.0",
          "state": {
            "_model_module": "@jupyter-widgets/base",
            "_model_module_version": "1.2.0",
            "_model_name": "LayoutModel",
            "_view_count": null,
            "_view_module": "@jupyter-widgets/base",
            "_view_module_version": "1.2.0",
            "_view_name": "LayoutView",
            "align_content": null,
            "align_items": null,
            "align_self": null,
            "border": null,
            "bottom": null,
            "display": null,
            "flex": null,
            "flex_flow": null,
            "grid_area": null,
            "grid_auto_columns": null,
            "grid_auto_flow": null,
            "grid_auto_rows": null,
            "grid_column": null,
            "grid_gap": null,
            "grid_row": null,
            "grid_template_areas": null,
            "grid_template_columns": null,
            "grid_template_rows": null,
            "height": null,
            "justify_content": null,
            "justify_items": null,
            "left": null,
            "margin": null,
            "max_height": null,
            "max_width": null,
            "min_height": null,
            "min_width": null,
            "object_fit": null,
            "object_position": null,
            "order": null,
            "overflow": null,
            "overflow_x": null,
            "overflow_y": null,
            "padding": null,
            "right": null,
            "top": null,
            "visibility": null,
            "width": null
          }
        },
        "1063d40d98ee467ab6fe0a2bc7c58ad6": {
          "model_module": "@jupyter-widgets/controls",
          "model_name": "DescriptionStyleModel",
          "model_module_version": "1.5.0",
          "state": {
            "_model_module": "@jupyter-widgets/controls",
            "_model_module_version": "1.5.0",
            "_model_name": "DescriptionStyleModel",
            "_view_count": null,
            "_view_module": "@jupyter-widgets/base",
            "_view_module_version": "1.2.0",
            "_view_name": "StyleView",
            "description_width": ""
          }
        },
        "abeefb8510274cdb848e0ce34188bbe7": {
          "model_module": "@jupyter-widgets/base",
          "model_name": "LayoutModel",
          "model_module_version": "1.2.0",
          "state": {
            "_model_module": "@jupyter-widgets/base",
            "_model_module_version": "1.2.0",
            "_model_name": "LayoutModel",
            "_view_count": null,
            "_view_module": "@jupyter-widgets/base",
            "_view_module_version": "1.2.0",
            "_view_name": "LayoutView",
            "align_content": null,
            "align_items": null,
            "align_self": null,
            "border": null,
            "bottom": null,
            "display": null,
            "flex": null,
            "flex_flow": null,
            "grid_area": null,
            "grid_auto_columns": null,
            "grid_auto_flow": null,
            "grid_auto_rows": null,
            "grid_column": null,
            "grid_gap": null,
            "grid_row": null,
            "grid_template_areas": null,
            "grid_template_columns": null,
            "grid_template_rows": null,
            "height": null,
            "justify_content": null,
            "justify_items": null,
            "left": null,
            "margin": null,
            "max_height": null,
            "max_width": null,
            "min_height": null,
            "min_width": null,
            "object_fit": null,
            "object_position": null,
            "order": null,
            "overflow": null,
            "overflow_x": null,
            "overflow_y": null,
            "padding": null,
            "right": null,
            "top": null,
            "visibility": null,
            "width": null
          }
        },
        "44a8deb6083f4d539ebebd344c1cb6c1": {
          "model_module": "@jupyter-widgets/controls",
          "model_name": "ProgressStyleModel",
          "model_module_version": "1.5.0",
          "state": {
            "_model_module": "@jupyter-widgets/controls",
            "_model_module_version": "1.5.0",
            "_model_name": "ProgressStyleModel",
            "_view_count": null,
            "_view_module": "@jupyter-widgets/base",
            "_view_module_version": "1.2.0",
            "_view_name": "StyleView",
            "bar_color": null,
            "description_width": ""
          }
        },
        "10e27e761f8548558f970f74fbe51d5d": {
          "model_module": "@jupyter-widgets/base",
          "model_name": "LayoutModel",
          "model_module_version": "1.2.0",
          "state": {
            "_model_module": "@jupyter-widgets/base",
            "_model_module_version": "1.2.0",
            "_model_name": "LayoutModel",
            "_view_count": null,
            "_view_module": "@jupyter-widgets/base",
            "_view_module_version": "1.2.0",
            "_view_name": "LayoutView",
            "align_content": null,
            "align_items": null,
            "align_self": null,
            "border": null,
            "bottom": null,
            "display": null,
            "flex": null,
            "flex_flow": null,
            "grid_area": null,
            "grid_auto_columns": null,
            "grid_auto_flow": null,
            "grid_auto_rows": null,
            "grid_column": null,
            "grid_gap": null,
            "grid_row": null,
            "grid_template_areas": null,
            "grid_template_columns": null,
            "grid_template_rows": null,
            "height": null,
            "justify_content": null,
            "justify_items": null,
            "left": null,
            "margin": null,
            "max_height": null,
            "max_width": null,
            "min_height": null,
            "min_width": null,
            "object_fit": null,
            "object_position": null,
            "order": null,
            "overflow": null,
            "overflow_x": null,
            "overflow_y": null,
            "padding": null,
            "right": null,
            "top": null,
            "visibility": null,
            "width": null
          }
        },
        "298b008789e04d29936ed199d621376d": {
          "model_module": "@jupyter-widgets/controls",
          "model_name": "DescriptionStyleModel",
          "model_module_version": "1.5.0",
          "state": {
            "_model_module": "@jupyter-widgets/controls",
            "_model_module_version": "1.5.0",
            "_model_name": "DescriptionStyleModel",
            "_view_count": null,
            "_view_module": "@jupyter-widgets/base",
            "_view_module_version": "1.2.0",
            "_view_name": "StyleView",
            "description_width": ""
          }
        },
        "88938d1793a9482f9e83cb1732a4f0c2": {
          "model_module": "@jupyter-widgets/controls",
          "model_name": "HBoxModel",
          "model_module_version": "1.5.0",
          "state": {
            "_dom_classes": [],
            "_model_module": "@jupyter-widgets/controls",
            "_model_module_version": "1.5.0",
            "_model_name": "HBoxModel",
            "_view_count": null,
            "_view_module": "@jupyter-widgets/controls",
            "_view_module_version": "1.5.0",
            "_view_name": "HBoxView",
            "box_style": "",
            "children": [
              "IPY_MODEL_5249f3ee41464df1891806d833903400",
              "IPY_MODEL_77753dfbc2924eb9a92637fe3dcc0cc1",
              "IPY_MODEL_5942f474de18462dba89cc48c28afaed"
            ],
            "layout": "IPY_MODEL_4ac3481c4660406ba31d33cf4db85394"
          }
        },
        "5249f3ee41464df1891806d833903400": {
          "model_module": "@jupyter-widgets/controls",
          "model_name": "HTMLModel",
          "model_module_version": "1.5.0",
          "state": {
            "_dom_classes": [],
            "_model_module": "@jupyter-widgets/controls",
            "_model_module_version": "1.5.0",
            "_model_name": "HTMLModel",
            "_view_count": null,
            "_view_module": "@jupyter-widgets/controls",
            "_view_module_version": "1.5.0",
            "_view_name": "HTMLView",
            "description": "",
            "description_tooltip": null,
            "layout": "IPY_MODEL_f591e92185fc4135990cc581e4a0652b",
            "placeholder": "​",
            "style": "IPY_MODEL_e1566cc2ac314cf1ad8594a5218dd252",
            "value": "vocab.txt: 100%"
          }
        },
        "77753dfbc2924eb9a92637fe3dcc0cc1": {
          "model_module": "@jupyter-widgets/controls",
          "model_name": "FloatProgressModel",
          "model_module_version": "1.5.0",
          "state": {
            "_dom_classes": [],
            "_model_module": "@jupyter-widgets/controls",
            "_model_module_version": "1.5.0",
            "_model_name": "FloatProgressModel",
            "_view_count": null,
            "_view_module": "@jupyter-widgets/controls",
            "_view_module_version": "1.5.0",
            "_view_name": "ProgressView",
            "bar_style": "success",
            "description": "",
            "description_tooltip": null,
            "layout": "IPY_MODEL_4b10c713b8494013997e4fed849259a9",
            "max": 231508,
            "min": 0,
            "orientation": "horizontal",
            "style": "IPY_MODEL_6fcc6cf0b86744b88e8c0e4733eff81d",
            "value": 231508
          }
        },
        "5942f474de18462dba89cc48c28afaed": {
          "model_module": "@jupyter-widgets/controls",
          "model_name": "HTMLModel",
          "model_module_version": "1.5.0",
          "state": {
            "_dom_classes": [],
            "_model_module": "@jupyter-widgets/controls",
            "_model_module_version": "1.5.0",
            "_model_name": "HTMLModel",
            "_view_count": null,
            "_view_module": "@jupyter-widgets/controls",
            "_view_module_version": "1.5.0",
            "_view_name": "HTMLView",
            "description": "",
            "description_tooltip": null,
            "layout": "IPY_MODEL_b9e2385acc2f4e4682db7ebb3bf6ccf1",
            "placeholder": "​",
            "style": "IPY_MODEL_e41d8151379744758692360667f289c4",
            "value": " 232k/232k [00:00&lt;00:00, 1.79MB/s]"
          }
        },
        "4ac3481c4660406ba31d33cf4db85394": {
          "model_module": "@jupyter-widgets/base",
          "model_name": "LayoutModel",
          "model_module_version": "1.2.0",
          "state": {
            "_model_module": "@jupyter-widgets/base",
            "_model_module_version": "1.2.0",
            "_model_name": "LayoutModel",
            "_view_count": null,
            "_view_module": "@jupyter-widgets/base",
            "_view_module_version": "1.2.0",
            "_view_name": "LayoutView",
            "align_content": null,
            "align_items": null,
            "align_self": null,
            "border": null,
            "bottom": null,
            "display": null,
            "flex": null,
            "flex_flow": null,
            "grid_area": null,
            "grid_auto_columns": null,
            "grid_auto_flow": null,
            "grid_auto_rows": null,
            "grid_column": null,
            "grid_gap": null,
            "grid_row": null,
            "grid_template_areas": null,
            "grid_template_columns": null,
            "grid_template_rows": null,
            "height": null,
            "justify_content": null,
            "justify_items": null,
            "left": null,
            "margin": null,
            "max_height": null,
            "max_width": null,
            "min_height": null,
            "min_width": null,
            "object_fit": null,
            "object_position": null,
            "order": null,
            "overflow": null,
            "overflow_x": null,
            "overflow_y": null,
            "padding": null,
            "right": null,
            "top": null,
            "visibility": null,
            "width": null
          }
        },
        "f591e92185fc4135990cc581e4a0652b": {
          "model_module": "@jupyter-widgets/base",
          "model_name": "LayoutModel",
          "model_module_version": "1.2.0",
          "state": {
            "_model_module": "@jupyter-widgets/base",
            "_model_module_version": "1.2.0",
            "_model_name": "LayoutModel",
            "_view_count": null,
            "_view_module": "@jupyter-widgets/base",
            "_view_module_version": "1.2.0",
            "_view_name": "LayoutView",
            "align_content": null,
            "align_items": null,
            "align_self": null,
            "border": null,
            "bottom": null,
            "display": null,
            "flex": null,
            "flex_flow": null,
            "grid_area": null,
            "grid_auto_columns": null,
            "grid_auto_flow": null,
            "grid_auto_rows": null,
            "grid_column": null,
            "grid_gap": null,
            "grid_row": null,
            "grid_template_areas": null,
            "grid_template_columns": null,
            "grid_template_rows": null,
            "height": null,
            "justify_content": null,
            "justify_items": null,
            "left": null,
            "margin": null,
            "max_height": null,
            "max_width": null,
            "min_height": null,
            "min_width": null,
            "object_fit": null,
            "object_position": null,
            "order": null,
            "overflow": null,
            "overflow_x": null,
            "overflow_y": null,
            "padding": null,
            "right": null,
            "top": null,
            "visibility": null,
            "width": null
          }
        },
        "e1566cc2ac314cf1ad8594a5218dd252": {
          "model_module": "@jupyter-widgets/controls",
          "model_name": "DescriptionStyleModel",
          "model_module_version": "1.5.0",
          "state": {
            "_model_module": "@jupyter-widgets/controls",
            "_model_module_version": "1.5.0",
            "_model_name": "DescriptionStyleModel",
            "_view_count": null,
            "_view_module": "@jupyter-widgets/base",
            "_view_module_version": "1.2.0",
            "_view_name": "StyleView",
            "description_width": ""
          }
        },
        "4b10c713b8494013997e4fed849259a9": {
          "model_module": "@jupyter-widgets/base",
          "model_name": "LayoutModel",
          "model_module_version": "1.2.0",
          "state": {
            "_model_module": "@jupyter-widgets/base",
            "_model_module_version": "1.2.0",
            "_model_name": "LayoutModel",
            "_view_count": null,
            "_view_module": "@jupyter-widgets/base",
            "_view_module_version": "1.2.0",
            "_view_name": "LayoutView",
            "align_content": null,
            "align_items": null,
            "align_self": null,
            "border": null,
            "bottom": null,
            "display": null,
            "flex": null,
            "flex_flow": null,
            "grid_area": null,
            "grid_auto_columns": null,
            "grid_auto_flow": null,
            "grid_auto_rows": null,
            "grid_column": null,
            "grid_gap": null,
            "grid_row": null,
            "grid_template_areas": null,
            "grid_template_columns": null,
            "grid_template_rows": null,
            "height": null,
            "justify_content": null,
            "justify_items": null,
            "left": null,
            "margin": null,
            "max_height": null,
            "max_width": null,
            "min_height": null,
            "min_width": null,
            "object_fit": null,
            "object_position": null,
            "order": null,
            "overflow": null,
            "overflow_x": null,
            "overflow_y": null,
            "padding": null,
            "right": null,
            "top": null,
            "visibility": null,
            "width": null
          }
        },
        "6fcc6cf0b86744b88e8c0e4733eff81d": {
          "model_module": "@jupyter-widgets/controls",
          "model_name": "ProgressStyleModel",
          "model_module_version": "1.5.0",
          "state": {
            "_model_module": "@jupyter-widgets/controls",
            "_model_module_version": "1.5.0",
            "_model_name": "ProgressStyleModel",
            "_view_count": null,
            "_view_module": "@jupyter-widgets/base",
            "_view_module_version": "1.2.0",
            "_view_name": "StyleView",
            "bar_color": null,
            "description_width": ""
          }
        },
        "b9e2385acc2f4e4682db7ebb3bf6ccf1": {
          "model_module": "@jupyter-widgets/base",
          "model_name": "LayoutModel",
          "model_module_version": "1.2.0",
          "state": {
            "_model_module": "@jupyter-widgets/base",
            "_model_module_version": "1.2.0",
            "_model_name": "LayoutModel",
            "_view_count": null,
            "_view_module": "@jupyter-widgets/base",
            "_view_module_version": "1.2.0",
            "_view_name": "LayoutView",
            "align_content": null,
            "align_items": null,
            "align_self": null,
            "border": null,
            "bottom": null,
            "display": null,
            "flex": null,
            "flex_flow": null,
            "grid_area": null,
            "grid_auto_columns": null,
            "grid_auto_flow": null,
            "grid_auto_rows": null,
            "grid_column": null,
            "grid_gap": null,
            "grid_row": null,
            "grid_template_areas": null,
            "grid_template_columns": null,
            "grid_template_rows": null,
            "height": null,
            "justify_content": null,
            "justify_items": null,
            "left": null,
            "margin": null,
            "max_height": null,
            "max_width": null,
            "min_height": null,
            "min_width": null,
            "object_fit": null,
            "object_position": null,
            "order": null,
            "overflow": null,
            "overflow_x": null,
            "overflow_y": null,
            "padding": null,
            "right": null,
            "top": null,
            "visibility": null,
            "width": null
          }
        },
        "e41d8151379744758692360667f289c4": {
          "model_module": "@jupyter-widgets/controls",
          "model_name": "DescriptionStyleModel",
          "model_module_version": "1.5.0",
          "state": {
            "_model_module": "@jupyter-widgets/controls",
            "_model_module_version": "1.5.0",
            "_model_name": "DescriptionStyleModel",
            "_view_count": null,
            "_view_module": "@jupyter-widgets/base",
            "_view_module_version": "1.2.0",
            "_view_name": "StyleView",
            "description_width": ""
          }
        },
        "c04d2ddae4654dddb04d9e1374e838e7": {
          "model_module": "@jupyter-widgets/controls",
          "model_name": "HBoxModel",
          "model_module_version": "1.5.0",
          "state": {
            "_dom_classes": [],
            "_model_module": "@jupyter-widgets/controls",
            "_model_module_version": "1.5.0",
            "_model_name": "HBoxModel",
            "_view_count": null,
            "_view_module": "@jupyter-widgets/controls",
            "_view_module_version": "1.5.0",
            "_view_name": "HBoxView",
            "box_style": "",
            "children": [
              "IPY_MODEL_ce81ed8ff3a24e798a8bee3f955b5e90",
              "IPY_MODEL_3105ba074e3d4e22af78dd64ddb8e58d",
              "IPY_MODEL_8c41b02671b243c8874c3a82cf309de8"
            ],
            "layout": "IPY_MODEL_97a82cc174e74de7bb1b98a1bd39201f"
          }
        },
        "ce81ed8ff3a24e798a8bee3f955b5e90": {
          "model_module": "@jupyter-widgets/controls",
          "model_name": "HTMLModel",
          "model_module_version": "1.5.0",
          "state": {
            "_dom_classes": [],
            "_model_module": "@jupyter-widgets/controls",
            "_model_module_version": "1.5.0",
            "_model_name": "HTMLModel",
            "_view_count": null,
            "_view_module": "@jupyter-widgets/controls",
            "_view_module_version": "1.5.0",
            "_view_name": "HTMLView",
            "description": "",
            "description_tooltip": null,
            "layout": "IPY_MODEL_0a70221587194b1a9ec89cece66b3304",
            "placeholder": "​",
            "style": "IPY_MODEL_f169331f85b24140877f1841eeb01a4a",
            "value": "tokenizer.json: 100%"
          }
        },
        "3105ba074e3d4e22af78dd64ddb8e58d": {
          "model_module": "@jupyter-widgets/controls",
          "model_name": "FloatProgressModel",
          "model_module_version": "1.5.0",
          "state": {
            "_dom_classes": [],
            "_model_module": "@jupyter-widgets/controls",
            "_model_module_version": "1.5.0",
            "_model_name": "FloatProgressModel",
            "_view_count": null,
            "_view_module": "@jupyter-widgets/controls",
            "_view_module_version": "1.5.0",
            "_view_name": "ProgressView",
            "bar_style": "success",
            "description": "",
            "description_tooltip": null,
            "layout": "IPY_MODEL_59c2ab6ede4c442bb9edf4e80501fb8a",
            "max": 466081,
            "min": 0,
            "orientation": "horizontal",
            "style": "IPY_MODEL_7a4a1d05484d4f8099f58d367e0000a8",
            "value": 466081
          }
        },
        "8c41b02671b243c8874c3a82cf309de8": {
          "model_module": "@jupyter-widgets/controls",
          "model_name": "HTMLModel",
          "model_module_version": "1.5.0",
          "state": {
            "_dom_classes": [],
            "_model_module": "@jupyter-widgets/controls",
            "_model_module_version": "1.5.0",
            "_model_name": "HTMLModel",
            "_view_count": null,
            "_view_module": "@jupyter-widgets/controls",
            "_view_module_version": "1.5.0",
            "_view_name": "HTMLView",
            "description": "",
            "description_tooltip": null,
            "layout": "IPY_MODEL_580f57bdf48b4a54bad9973c32c5520f",
            "placeholder": "​",
            "style": "IPY_MODEL_07af686fe2464937aa7e64c4c940c967",
            "value": " 466k/466k [00:00&lt;00:00, 6.75MB/s]"
          }
        },
        "97a82cc174e74de7bb1b98a1bd39201f": {
          "model_module": "@jupyter-widgets/base",
          "model_name": "LayoutModel",
          "model_module_version": "1.2.0",
          "state": {
            "_model_module": "@jupyter-widgets/base",
            "_model_module_version": "1.2.0",
            "_model_name": "LayoutModel",
            "_view_count": null,
            "_view_module": "@jupyter-widgets/base",
            "_view_module_version": "1.2.0",
            "_view_name": "LayoutView",
            "align_content": null,
            "align_items": null,
            "align_self": null,
            "border": null,
            "bottom": null,
            "display": null,
            "flex": null,
            "flex_flow": null,
            "grid_area": null,
            "grid_auto_columns": null,
            "grid_auto_flow": null,
            "grid_auto_rows": null,
            "grid_column": null,
            "grid_gap": null,
            "grid_row": null,
            "grid_template_areas": null,
            "grid_template_columns": null,
            "grid_template_rows": null,
            "height": null,
            "justify_content": null,
            "justify_items": null,
            "left": null,
            "margin": null,
            "max_height": null,
            "max_width": null,
            "min_height": null,
            "min_width": null,
            "object_fit": null,
            "object_position": null,
            "order": null,
            "overflow": null,
            "overflow_x": null,
            "overflow_y": null,
            "padding": null,
            "right": null,
            "top": null,
            "visibility": null,
            "width": null
          }
        },
        "0a70221587194b1a9ec89cece66b3304": {
          "model_module": "@jupyter-widgets/base",
          "model_name": "LayoutModel",
          "model_module_version": "1.2.0",
          "state": {
            "_model_module": "@jupyter-widgets/base",
            "_model_module_version": "1.2.0",
            "_model_name": "LayoutModel",
            "_view_count": null,
            "_view_module": "@jupyter-widgets/base",
            "_view_module_version": "1.2.0",
            "_view_name": "LayoutView",
            "align_content": null,
            "align_items": null,
            "align_self": null,
            "border": null,
            "bottom": null,
            "display": null,
            "flex": null,
            "flex_flow": null,
            "grid_area": null,
            "grid_auto_columns": null,
            "grid_auto_flow": null,
            "grid_auto_rows": null,
            "grid_column": null,
            "grid_gap": null,
            "grid_row": null,
            "grid_template_areas": null,
            "grid_template_columns": null,
            "grid_template_rows": null,
            "height": null,
            "justify_content": null,
            "justify_items": null,
            "left": null,
            "margin": null,
            "max_height": null,
            "max_width": null,
            "min_height": null,
            "min_width": null,
            "object_fit": null,
            "object_position": null,
            "order": null,
            "overflow": null,
            "overflow_x": null,
            "overflow_y": null,
            "padding": null,
            "right": null,
            "top": null,
            "visibility": null,
            "width": null
          }
        },
        "f169331f85b24140877f1841eeb01a4a": {
          "model_module": "@jupyter-widgets/controls",
          "model_name": "DescriptionStyleModel",
          "model_module_version": "1.5.0",
          "state": {
            "_model_module": "@jupyter-widgets/controls",
            "_model_module_version": "1.5.0",
            "_model_name": "DescriptionStyleModel",
            "_view_count": null,
            "_view_module": "@jupyter-widgets/base",
            "_view_module_version": "1.2.0",
            "_view_name": "StyleView",
            "description_width": ""
          }
        },
        "59c2ab6ede4c442bb9edf4e80501fb8a": {
          "model_module": "@jupyter-widgets/base",
          "model_name": "LayoutModel",
          "model_module_version": "1.2.0",
          "state": {
            "_model_module": "@jupyter-widgets/base",
            "_model_module_version": "1.2.0",
            "_model_name": "LayoutModel",
            "_view_count": null,
            "_view_module": "@jupyter-widgets/base",
            "_view_module_version": "1.2.0",
            "_view_name": "LayoutView",
            "align_content": null,
            "align_items": null,
            "align_self": null,
            "border": null,
            "bottom": null,
            "display": null,
            "flex": null,
            "flex_flow": null,
            "grid_area": null,
            "grid_auto_columns": null,
            "grid_auto_flow": null,
            "grid_auto_rows": null,
            "grid_column": null,
            "grid_gap": null,
            "grid_row": null,
            "grid_template_areas": null,
            "grid_template_columns": null,
            "grid_template_rows": null,
            "height": null,
            "justify_content": null,
            "justify_items": null,
            "left": null,
            "margin": null,
            "max_height": null,
            "max_width": null,
            "min_height": null,
            "min_width": null,
            "object_fit": null,
            "object_position": null,
            "order": null,
            "overflow": null,
            "overflow_x": null,
            "overflow_y": null,
            "padding": null,
            "right": null,
            "top": null,
            "visibility": null,
            "width": null
          }
        },
        "7a4a1d05484d4f8099f58d367e0000a8": {
          "model_module": "@jupyter-widgets/controls",
          "model_name": "ProgressStyleModel",
          "model_module_version": "1.5.0",
          "state": {
            "_model_module": "@jupyter-widgets/controls",
            "_model_module_version": "1.5.0",
            "_model_name": "ProgressStyleModel",
            "_view_count": null,
            "_view_module": "@jupyter-widgets/base",
            "_view_module_version": "1.2.0",
            "_view_name": "StyleView",
            "bar_color": null,
            "description_width": ""
          }
        },
        "580f57bdf48b4a54bad9973c32c5520f": {
          "model_module": "@jupyter-widgets/base",
          "model_name": "LayoutModel",
          "model_module_version": "1.2.0",
          "state": {
            "_model_module": "@jupyter-widgets/base",
            "_model_module_version": "1.2.0",
            "_model_name": "LayoutModel",
            "_view_count": null,
            "_view_module": "@jupyter-widgets/base",
            "_view_module_version": "1.2.0",
            "_view_name": "LayoutView",
            "align_content": null,
            "align_items": null,
            "align_self": null,
            "border": null,
            "bottom": null,
            "display": null,
            "flex": null,
            "flex_flow": null,
            "grid_area": null,
            "grid_auto_columns": null,
            "grid_auto_flow": null,
            "grid_auto_rows": null,
            "grid_column": null,
            "grid_gap": null,
            "grid_row": null,
            "grid_template_areas": null,
            "grid_template_columns": null,
            "grid_template_rows": null,
            "height": null,
            "justify_content": null,
            "justify_items": null,
            "left": null,
            "margin": null,
            "max_height": null,
            "max_width": null,
            "min_height": null,
            "min_width": null,
            "object_fit": null,
            "object_position": null,
            "order": null,
            "overflow": null,
            "overflow_x": null,
            "overflow_y": null,
            "padding": null,
            "right": null,
            "top": null,
            "visibility": null,
            "width": null
          }
        },
        "07af686fe2464937aa7e64c4c940c967": {
          "model_module": "@jupyter-widgets/controls",
          "model_name": "DescriptionStyleModel",
          "model_module_version": "1.5.0",
          "state": {
            "_model_module": "@jupyter-widgets/controls",
            "_model_module_version": "1.5.0",
            "_model_name": "DescriptionStyleModel",
            "_view_count": null,
            "_view_module": "@jupyter-widgets/base",
            "_view_module_version": "1.2.0",
            "_view_name": "StyleView",
            "description_width": ""
          }
        },
        "f7bdea0fdcb34c00a886868670770b3a": {
          "model_module": "@jupyter-widgets/controls",
          "model_name": "HBoxModel",
          "model_module_version": "1.5.0",
          "state": {
            "_dom_classes": [],
            "_model_module": "@jupyter-widgets/controls",
            "_model_module_version": "1.5.0",
            "_model_name": "HBoxModel",
            "_view_count": null,
            "_view_module": "@jupyter-widgets/controls",
            "_view_module_version": "1.5.0",
            "_view_name": "HBoxView",
            "box_style": "",
            "children": [
              "IPY_MODEL_ebfbbf9e172246238ded219cfb10e0f6",
              "IPY_MODEL_532e9ca0108042fb978b444997f9ef79",
              "IPY_MODEL_fc57753737b8454ba01a5f75d9b82b1b"
            ],
            "layout": "IPY_MODEL_ec3a15aacb634d9695e709c1d5f7fe44"
          }
        },
        "ebfbbf9e172246238ded219cfb10e0f6": {
          "model_module": "@jupyter-widgets/controls",
          "model_name": "HTMLModel",
          "model_module_version": "1.5.0",
          "state": {
            "_dom_classes": [],
            "_model_module": "@jupyter-widgets/controls",
            "_model_module_version": "1.5.0",
            "_model_name": "HTMLModel",
            "_view_count": null,
            "_view_module": "@jupyter-widgets/controls",
            "_view_module_version": "1.5.0",
            "_view_name": "HTMLView",
            "description": "",
            "description_tooltip": null,
            "layout": "IPY_MODEL_5e5a0091c3384553b8578bc3e5eeec10",
            "placeholder": "​",
            "style": "IPY_MODEL_d03b86b873944e9991427e65d99ae47a",
            "value": "special_tokens_map.json: 100%"
          }
        },
        "532e9ca0108042fb978b444997f9ef79": {
          "model_module": "@jupyter-widgets/controls",
          "model_name": "FloatProgressModel",
          "model_module_version": "1.5.0",
          "state": {
            "_dom_classes": [],
            "_model_module": "@jupyter-widgets/controls",
            "_model_module_version": "1.5.0",
            "_model_name": "FloatProgressModel",
            "_view_count": null,
            "_view_module": "@jupyter-widgets/controls",
            "_view_module_version": "1.5.0",
            "_view_name": "ProgressView",
            "bar_style": "success",
            "description": "",
            "description_tooltip": null,
            "layout": "IPY_MODEL_88b327295491472f9491d85402f47fba",
            "max": 112,
            "min": 0,
            "orientation": "horizontal",
            "style": "IPY_MODEL_7b67419cddf04f48b237ce2bbfdbe83e",
            "value": 112
          }
        },
        "fc57753737b8454ba01a5f75d9b82b1b": {
          "model_module": "@jupyter-widgets/controls",
          "model_name": "HTMLModel",
          "model_module_version": "1.5.0",
          "state": {
            "_dom_classes": [],
            "_model_module": "@jupyter-widgets/controls",
            "_model_module_version": "1.5.0",
            "_model_name": "HTMLModel",
            "_view_count": null,
            "_view_module": "@jupyter-widgets/controls",
            "_view_module_version": "1.5.0",
            "_view_name": "HTMLView",
            "description": "",
            "description_tooltip": null,
            "layout": "IPY_MODEL_3906d8ac9c094a5e98ba766a8bc7d15f",
            "placeholder": "​",
            "style": "IPY_MODEL_89d3ca31331b4596b14060aa2a3f2acf",
            "value": " 112/112 [00:00&lt;00:00, 5.25kB/s]"
          }
        },
        "ec3a15aacb634d9695e709c1d5f7fe44": {
          "model_module": "@jupyter-widgets/base",
          "model_name": "LayoutModel",
          "model_module_version": "1.2.0",
          "state": {
            "_model_module": "@jupyter-widgets/base",
            "_model_module_version": "1.2.0",
            "_model_name": "LayoutModel",
            "_view_count": null,
            "_view_module": "@jupyter-widgets/base",
            "_view_module_version": "1.2.0",
            "_view_name": "LayoutView",
            "align_content": null,
            "align_items": null,
            "align_self": null,
            "border": null,
            "bottom": null,
            "display": null,
            "flex": null,
            "flex_flow": null,
            "grid_area": null,
            "grid_auto_columns": null,
            "grid_auto_flow": null,
            "grid_auto_rows": null,
            "grid_column": null,
            "grid_gap": null,
            "grid_row": null,
            "grid_template_areas": null,
            "grid_template_columns": null,
            "grid_template_rows": null,
            "height": null,
            "justify_content": null,
            "justify_items": null,
            "left": null,
            "margin": null,
            "max_height": null,
            "max_width": null,
            "min_height": null,
            "min_width": null,
            "object_fit": null,
            "object_position": null,
            "order": null,
            "overflow": null,
            "overflow_x": null,
            "overflow_y": null,
            "padding": null,
            "right": null,
            "top": null,
            "visibility": null,
            "width": null
          }
        },
        "5e5a0091c3384553b8578bc3e5eeec10": {
          "model_module": "@jupyter-widgets/base",
          "model_name": "LayoutModel",
          "model_module_version": "1.2.0",
          "state": {
            "_model_module": "@jupyter-widgets/base",
            "_model_module_version": "1.2.0",
            "_model_name": "LayoutModel",
            "_view_count": null,
            "_view_module": "@jupyter-widgets/base",
            "_view_module_version": "1.2.0",
            "_view_name": "LayoutView",
            "align_content": null,
            "align_items": null,
            "align_self": null,
            "border": null,
            "bottom": null,
            "display": null,
            "flex": null,
            "flex_flow": null,
            "grid_area": null,
            "grid_auto_columns": null,
            "grid_auto_flow": null,
            "grid_auto_rows": null,
            "grid_column": null,
            "grid_gap": null,
            "grid_row": null,
            "grid_template_areas": null,
            "grid_template_columns": null,
            "grid_template_rows": null,
            "height": null,
            "justify_content": null,
            "justify_items": null,
            "left": null,
            "margin": null,
            "max_height": null,
            "max_width": null,
            "min_height": null,
            "min_width": null,
            "object_fit": null,
            "object_position": null,
            "order": null,
            "overflow": null,
            "overflow_x": null,
            "overflow_y": null,
            "padding": null,
            "right": null,
            "top": null,
            "visibility": null,
            "width": null
          }
        },
        "d03b86b873944e9991427e65d99ae47a": {
          "model_module": "@jupyter-widgets/controls",
          "model_name": "DescriptionStyleModel",
          "model_module_version": "1.5.0",
          "state": {
            "_model_module": "@jupyter-widgets/controls",
            "_model_module_version": "1.5.0",
            "_model_name": "DescriptionStyleModel",
            "_view_count": null,
            "_view_module": "@jupyter-widgets/base",
            "_view_module_version": "1.2.0",
            "_view_name": "StyleView",
            "description_width": ""
          }
        },
        "88b327295491472f9491d85402f47fba": {
          "model_module": "@jupyter-widgets/base",
          "model_name": "LayoutModel",
          "model_module_version": "1.2.0",
          "state": {
            "_model_module": "@jupyter-widgets/base",
            "_model_module_version": "1.2.0",
            "_model_name": "LayoutModel",
            "_view_count": null,
            "_view_module": "@jupyter-widgets/base",
            "_view_module_version": "1.2.0",
            "_view_name": "LayoutView",
            "align_content": null,
            "align_items": null,
            "align_self": null,
            "border": null,
            "bottom": null,
            "display": null,
            "flex": null,
            "flex_flow": null,
            "grid_area": null,
            "grid_auto_columns": null,
            "grid_auto_flow": null,
            "grid_auto_rows": null,
            "grid_column": null,
            "grid_gap": null,
            "grid_row": null,
            "grid_template_areas": null,
            "grid_template_columns": null,
            "grid_template_rows": null,
            "height": null,
            "justify_content": null,
            "justify_items": null,
            "left": null,
            "margin": null,
            "max_height": null,
            "max_width": null,
            "min_height": null,
            "min_width": null,
            "object_fit": null,
            "object_position": null,
            "order": null,
            "overflow": null,
            "overflow_x": null,
            "overflow_y": null,
            "padding": null,
            "right": null,
            "top": null,
            "visibility": null,
            "width": null
          }
        },
        "7b67419cddf04f48b237ce2bbfdbe83e": {
          "model_module": "@jupyter-widgets/controls",
          "model_name": "ProgressStyleModel",
          "model_module_version": "1.5.0",
          "state": {
            "_model_module": "@jupyter-widgets/controls",
            "_model_module_version": "1.5.0",
            "_model_name": "ProgressStyleModel",
            "_view_count": null,
            "_view_module": "@jupyter-widgets/base",
            "_view_module_version": "1.2.0",
            "_view_name": "StyleView",
            "bar_color": null,
            "description_width": ""
          }
        },
        "3906d8ac9c094a5e98ba766a8bc7d15f": {
          "model_module": "@jupyter-widgets/base",
          "model_name": "LayoutModel",
          "model_module_version": "1.2.0",
          "state": {
            "_model_module": "@jupyter-widgets/base",
            "_model_module_version": "1.2.0",
            "_model_name": "LayoutModel",
            "_view_count": null,
            "_view_module": "@jupyter-widgets/base",
            "_view_module_version": "1.2.0",
            "_view_name": "LayoutView",
            "align_content": null,
            "align_items": null,
            "align_self": null,
            "border": null,
            "bottom": null,
            "display": null,
            "flex": null,
            "flex_flow": null,
            "grid_area": null,
            "grid_auto_columns": null,
            "grid_auto_flow": null,
            "grid_auto_rows": null,
            "grid_column": null,
            "grid_gap": null,
            "grid_row": null,
            "grid_template_areas": null,
            "grid_template_columns": null,
            "grid_template_rows": null,
            "height": null,
            "justify_content": null,
            "justify_items": null,
            "left": null,
            "margin": null,
            "max_height": null,
            "max_width": null,
            "min_height": null,
            "min_width": null,
            "object_fit": null,
            "object_position": null,
            "order": null,
            "overflow": null,
            "overflow_x": null,
            "overflow_y": null,
            "padding": null,
            "right": null,
            "top": null,
            "visibility": null,
            "width": null
          }
        },
        "89d3ca31331b4596b14060aa2a3f2acf": {
          "model_module": "@jupyter-widgets/controls",
          "model_name": "DescriptionStyleModel",
          "model_module_version": "1.5.0",
          "state": {
            "_model_module": "@jupyter-widgets/controls",
            "_model_module_version": "1.5.0",
            "_model_name": "DescriptionStyleModel",
            "_view_count": null,
            "_view_module": "@jupyter-widgets/base",
            "_view_module_version": "1.2.0",
            "_view_name": "StyleView",
            "description_width": ""
          }
        },
        "ac5a2c5372344ace90215f1ccaf092b1": {
          "model_module": "@jupyter-widgets/controls",
          "model_name": "HBoxModel",
          "model_module_version": "1.5.0",
          "state": {
            "_dom_classes": [],
            "_model_module": "@jupyter-widgets/controls",
            "_model_module_version": "1.5.0",
            "_model_name": "HBoxModel",
            "_view_count": null,
            "_view_module": "@jupyter-widgets/controls",
            "_view_module_version": "1.5.0",
            "_view_name": "HBoxView",
            "box_style": "",
            "children": [
              "IPY_MODEL_625212baeed74f278d8bcc4b6a161c93",
              "IPY_MODEL_f217375883824f88af5ad972f82a16be",
              "IPY_MODEL_0f2a42e986024477a908572cb67fe4ee"
            ],
            "layout": "IPY_MODEL_eef61edafebe42b2b3565a6d177885a1"
          }
        },
        "625212baeed74f278d8bcc4b6a161c93": {
          "model_module": "@jupyter-widgets/controls",
          "model_name": "HTMLModel",
          "model_module_version": "1.5.0",
          "state": {
            "_dom_classes": [],
            "_model_module": "@jupyter-widgets/controls",
            "_model_module_version": "1.5.0",
            "_model_name": "HTMLModel",
            "_view_count": null,
            "_view_module": "@jupyter-widgets/controls",
            "_view_module_version": "1.5.0",
            "_view_name": "HTMLView",
            "description": "",
            "description_tooltip": null,
            "layout": "IPY_MODEL_449bb5071486417da54cf42dc820cac9",
            "placeholder": "​",
            "style": "IPY_MODEL_d30fa5caeb1b40539f673335cc0feabc",
            "value": "config.json: 100%"
          }
        },
        "f217375883824f88af5ad972f82a16be": {
          "model_module": "@jupyter-widgets/controls",
          "model_name": "FloatProgressModel",
          "model_module_version": "1.5.0",
          "state": {
            "_dom_classes": [],
            "_model_module": "@jupyter-widgets/controls",
            "_model_module_version": "1.5.0",
            "_model_name": "FloatProgressModel",
            "_view_count": null,
            "_view_module": "@jupyter-widgets/controls",
            "_view_module_version": "1.5.0",
            "_view_name": "ProgressView",
            "bar_style": "success",
            "description": "",
            "description_tooltip": null,
            "layout": "IPY_MODEL_2c62da927a1e43209e302ae9f0173442",
            "max": 645,
            "min": 0,
            "orientation": "horizontal",
            "style": "IPY_MODEL_e7c1c33458db4f62921ed686d6a0bd44",
            "value": 645
          }
        },
        "0f2a42e986024477a908572cb67fe4ee": {
          "model_module": "@jupyter-widgets/controls",
          "model_name": "HTMLModel",
          "model_module_version": "1.5.0",
          "state": {
            "_dom_classes": [],
            "_model_module": "@jupyter-widgets/controls",
            "_model_module_version": "1.5.0",
            "_model_name": "HTMLModel",
            "_view_count": null,
            "_view_module": "@jupyter-widgets/controls",
            "_view_module_version": "1.5.0",
            "_view_name": "HTMLView",
            "description": "",
            "description_tooltip": null,
            "layout": "IPY_MODEL_20c969c3c0b3485183d5b08b0dae8f9c",
            "placeholder": "​",
            "style": "IPY_MODEL_f8ad0aaccf9043eabee56c5a748cb0d2",
            "value": " 645/645 [00:00&lt;00:00, 37.0kB/s]"
          }
        },
        "eef61edafebe42b2b3565a6d177885a1": {
          "model_module": "@jupyter-widgets/base",
          "model_name": "LayoutModel",
          "model_module_version": "1.2.0",
          "state": {
            "_model_module": "@jupyter-widgets/base",
            "_model_module_version": "1.2.0",
            "_model_name": "LayoutModel",
            "_view_count": null,
            "_view_module": "@jupyter-widgets/base",
            "_view_module_version": "1.2.0",
            "_view_name": "LayoutView",
            "align_content": null,
            "align_items": null,
            "align_self": null,
            "border": null,
            "bottom": null,
            "display": null,
            "flex": null,
            "flex_flow": null,
            "grid_area": null,
            "grid_auto_columns": null,
            "grid_auto_flow": null,
            "grid_auto_rows": null,
            "grid_column": null,
            "grid_gap": null,
            "grid_row": null,
            "grid_template_areas": null,
            "grid_template_columns": null,
            "grid_template_rows": null,
            "height": null,
            "justify_content": null,
            "justify_items": null,
            "left": null,
            "margin": null,
            "max_height": null,
            "max_width": null,
            "min_height": null,
            "min_width": null,
            "object_fit": null,
            "object_position": null,
            "order": null,
            "overflow": null,
            "overflow_x": null,
            "overflow_y": null,
            "padding": null,
            "right": null,
            "top": null,
            "visibility": null,
            "width": null
          }
        },
        "449bb5071486417da54cf42dc820cac9": {
          "model_module": "@jupyter-widgets/base",
          "model_name": "LayoutModel",
          "model_module_version": "1.2.0",
          "state": {
            "_model_module": "@jupyter-widgets/base",
            "_model_module_version": "1.2.0",
            "_model_name": "LayoutModel",
            "_view_count": null,
            "_view_module": "@jupyter-widgets/base",
            "_view_module_version": "1.2.0",
            "_view_name": "LayoutView",
            "align_content": null,
            "align_items": null,
            "align_self": null,
            "border": null,
            "bottom": null,
            "display": null,
            "flex": null,
            "flex_flow": null,
            "grid_area": null,
            "grid_auto_columns": null,
            "grid_auto_flow": null,
            "grid_auto_rows": null,
            "grid_column": null,
            "grid_gap": null,
            "grid_row": null,
            "grid_template_areas": null,
            "grid_template_columns": null,
            "grid_template_rows": null,
            "height": null,
            "justify_content": null,
            "justify_items": null,
            "left": null,
            "margin": null,
            "max_height": null,
            "max_width": null,
            "min_height": null,
            "min_width": null,
            "object_fit": null,
            "object_position": null,
            "order": null,
            "overflow": null,
            "overflow_x": null,
            "overflow_y": null,
            "padding": null,
            "right": null,
            "top": null,
            "visibility": null,
            "width": null
          }
        },
        "d30fa5caeb1b40539f673335cc0feabc": {
          "model_module": "@jupyter-widgets/controls",
          "model_name": "DescriptionStyleModel",
          "model_module_version": "1.5.0",
          "state": {
            "_model_module": "@jupyter-widgets/controls",
            "_model_module_version": "1.5.0",
            "_model_name": "DescriptionStyleModel",
            "_view_count": null,
            "_view_module": "@jupyter-widgets/base",
            "_view_module_version": "1.2.0",
            "_view_name": "StyleView",
            "description_width": ""
          }
        },
        "2c62da927a1e43209e302ae9f0173442": {
          "model_module": "@jupyter-widgets/base",
          "model_name": "LayoutModel",
          "model_module_version": "1.2.0",
          "state": {
            "_model_module": "@jupyter-widgets/base",
            "_model_module_version": "1.2.0",
            "_model_name": "LayoutModel",
            "_view_count": null,
            "_view_module": "@jupyter-widgets/base",
            "_view_module_version": "1.2.0",
            "_view_name": "LayoutView",
            "align_content": null,
            "align_items": null,
            "align_self": null,
            "border": null,
            "bottom": null,
            "display": null,
            "flex": null,
            "flex_flow": null,
            "grid_area": null,
            "grid_auto_columns": null,
            "grid_auto_flow": null,
            "grid_auto_rows": null,
            "grid_column": null,
            "grid_gap": null,
            "grid_row": null,
            "grid_template_areas": null,
            "grid_template_columns": null,
            "grid_template_rows": null,
            "height": null,
            "justify_content": null,
            "justify_items": null,
            "left": null,
            "margin": null,
            "max_height": null,
            "max_width": null,
            "min_height": null,
            "min_width": null,
            "object_fit": null,
            "object_position": null,
            "order": null,
            "overflow": null,
            "overflow_x": null,
            "overflow_y": null,
            "padding": null,
            "right": null,
            "top": null,
            "visibility": null,
            "width": null
          }
        },
        "e7c1c33458db4f62921ed686d6a0bd44": {
          "model_module": "@jupyter-widgets/controls",
          "model_name": "ProgressStyleModel",
          "model_module_version": "1.5.0",
          "state": {
            "_model_module": "@jupyter-widgets/controls",
            "_model_module_version": "1.5.0",
            "_model_name": "ProgressStyleModel",
            "_view_count": null,
            "_view_module": "@jupyter-widgets/base",
            "_view_module_version": "1.2.0",
            "_view_name": "StyleView",
            "bar_color": null,
            "description_width": ""
          }
        },
        "20c969c3c0b3485183d5b08b0dae8f9c": {
          "model_module": "@jupyter-widgets/base",
          "model_name": "LayoutModel",
          "model_module_version": "1.2.0",
          "state": {
            "_model_module": "@jupyter-widgets/base",
            "_model_module_version": "1.2.0",
            "_model_name": "LayoutModel",
            "_view_count": null,
            "_view_module": "@jupyter-widgets/base",
            "_view_module_version": "1.2.0",
            "_view_name": "LayoutView",
            "align_content": null,
            "align_items": null,
            "align_self": null,
            "border": null,
            "bottom": null,
            "display": null,
            "flex": null,
            "flex_flow": null,
            "grid_area": null,
            "grid_auto_columns": null,
            "grid_auto_flow": null,
            "grid_auto_rows": null,
            "grid_column": null,
            "grid_gap": null,
            "grid_row": null,
            "grid_template_areas": null,
            "grid_template_columns": null,
            "grid_template_rows": null,
            "height": null,
            "justify_content": null,
            "justify_items": null,
            "left": null,
            "margin": null,
            "max_height": null,
            "max_width": null,
            "min_height": null,
            "min_width": null,
            "object_fit": null,
            "object_position": null,
            "order": null,
            "overflow": null,
            "overflow_x": null,
            "overflow_y": null,
            "padding": null,
            "right": null,
            "top": null,
            "visibility": null,
            "width": null
          }
        },
        "f8ad0aaccf9043eabee56c5a748cb0d2": {
          "model_module": "@jupyter-widgets/controls",
          "model_name": "DescriptionStyleModel",
          "model_module_version": "1.5.0",
          "state": {
            "_model_module": "@jupyter-widgets/controls",
            "_model_module_version": "1.5.0",
            "_model_name": "DescriptionStyleModel",
            "_view_count": null,
            "_view_module": "@jupyter-widgets/base",
            "_view_module_version": "1.2.0",
            "_view_name": "StyleView",
            "description_width": ""
          }
        },
        "3188dd20ae2f4c9ca5f24e7d05b06838": {
          "model_module": "@jupyter-widgets/controls",
          "model_name": "HBoxModel",
          "model_module_version": "1.5.0",
          "state": {
            "_dom_classes": [],
            "_model_module": "@jupyter-widgets/controls",
            "_model_module_version": "1.5.0",
            "_model_name": "HBoxModel",
            "_view_count": null,
            "_view_module": "@jupyter-widgets/controls",
            "_view_module_version": "1.5.0",
            "_view_name": "HBoxView",
            "box_style": "",
            "children": [
              "IPY_MODEL_5bd1787d61a74ae8b80badc8674b376b",
              "IPY_MODEL_26636011e6794fea92b42dbabbc58437",
              "IPY_MODEL_c0d0d349f34f4f9aa736dc1f4e14b2d3"
            ],
            "layout": "IPY_MODEL_0fba9f47dd6c4c849a3f77a9abe9ad52"
          }
        },
        "5bd1787d61a74ae8b80badc8674b376b": {
          "model_module": "@jupyter-widgets/controls",
          "model_name": "HTMLModel",
          "model_module_version": "1.5.0",
          "state": {
            "_dom_classes": [],
            "_model_module": "@jupyter-widgets/controls",
            "_model_module_version": "1.5.0",
            "_model_name": "HTMLModel",
            "_view_count": null,
            "_view_module": "@jupyter-widgets/controls",
            "_view_module_version": "1.5.0",
            "_view_name": "HTMLView",
            "description": "",
            "description_tooltip": null,
            "layout": "IPY_MODEL_12c93fcbb150401da63a3f0f6fc6c92d",
            "placeholder": "​",
            "style": "IPY_MODEL_654f1303a20d443d8d1641b5d0142ceb",
            "value": "model.safetensors: 100%"
          }
        },
        "26636011e6794fea92b42dbabbc58437": {
          "model_module": "@jupyter-widgets/controls",
          "model_name": "FloatProgressModel",
          "model_module_version": "1.5.0",
          "state": {
            "_dom_classes": [],
            "_model_module": "@jupyter-widgets/controls",
            "_model_module_version": "1.5.0",
            "_model_name": "FloatProgressModel",
            "_view_count": null,
            "_view_module": "@jupyter-widgets/controls",
            "_view_module_version": "1.5.0",
            "_view_name": "ProgressView",
            "bar_style": "success",
            "description": "",
            "description_tooltip": null,
            "layout": "IPY_MODEL_35fc63b7e78f4671ac0945b979577999",
            "max": 437955512,
            "min": 0,
            "orientation": "horizontal",
            "style": "IPY_MODEL_eccdef8ec0d94d6f96a681bef64f95d8",
            "value": 437955512
          }
        },
        "c0d0d349f34f4f9aa736dc1f4e14b2d3": {
          "model_module": "@jupyter-widgets/controls",
          "model_name": "HTMLModel",
          "model_module_version": "1.5.0",
          "state": {
            "_dom_classes": [],
            "_model_module": "@jupyter-widgets/controls",
            "_model_module_version": "1.5.0",
            "_model_name": "HTMLModel",
            "_view_count": null,
            "_view_module": "@jupyter-widgets/controls",
            "_view_module_version": "1.5.0",
            "_view_name": "HTMLView",
            "description": "",
            "description_tooltip": null,
            "layout": "IPY_MODEL_f0ccf4c042ac474a92c5522526b9fb24",
            "placeholder": "​",
            "style": "IPY_MODEL_083a0932f95f4ef98e3af236ded10c3d",
            "value": " 438M/438M [00:05&lt;00:00, 108MB/s]"
          }
        },
        "0fba9f47dd6c4c849a3f77a9abe9ad52": {
          "model_module": "@jupyter-widgets/base",
          "model_name": "LayoutModel",
          "model_module_version": "1.2.0",
          "state": {
            "_model_module": "@jupyter-widgets/base",
            "_model_module_version": "1.2.0",
            "_model_name": "LayoutModel",
            "_view_count": null,
            "_view_module": "@jupyter-widgets/base",
            "_view_module_version": "1.2.0",
            "_view_name": "LayoutView",
            "align_content": null,
            "align_items": null,
            "align_self": null,
            "border": null,
            "bottom": null,
            "display": null,
            "flex": null,
            "flex_flow": null,
            "grid_area": null,
            "grid_auto_columns": null,
            "grid_auto_flow": null,
            "grid_auto_rows": null,
            "grid_column": null,
            "grid_gap": null,
            "grid_row": null,
            "grid_template_areas": null,
            "grid_template_columns": null,
            "grid_template_rows": null,
            "height": null,
            "justify_content": null,
            "justify_items": null,
            "left": null,
            "margin": null,
            "max_height": null,
            "max_width": null,
            "min_height": null,
            "min_width": null,
            "object_fit": null,
            "object_position": null,
            "order": null,
            "overflow": null,
            "overflow_x": null,
            "overflow_y": null,
            "padding": null,
            "right": null,
            "top": null,
            "visibility": null,
            "width": null
          }
        },
        "12c93fcbb150401da63a3f0f6fc6c92d": {
          "model_module": "@jupyter-widgets/base",
          "model_name": "LayoutModel",
          "model_module_version": "1.2.0",
          "state": {
            "_model_module": "@jupyter-widgets/base",
            "_model_module_version": "1.2.0",
            "_model_name": "LayoutModel",
            "_view_count": null,
            "_view_module": "@jupyter-widgets/base",
            "_view_module_version": "1.2.0",
            "_view_name": "LayoutView",
            "align_content": null,
            "align_items": null,
            "align_self": null,
            "border": null,
            "bottom": null,
            "display": null,
            "flex": null,
            "flex_flow": null,
            "grid_area": null,
            "grid_auto_columns": null,
            "grid_auto_flow": null,
            "grid_auto_rows": null,
            "grid_column": null,
            "grid_gap": null,
            "grid_row": null,
            "grid_template_areas": null,
            "grid_template_columns": null,
            "grid_template_rows": null,
            "height": null,
            "justify_content": null,
            "justify_items": null,
            "left": null,
            "margin": null,
            "max_height": null,
            "max_width": null,
            "min_height": null,
            "min_width": null,
            "object_fit": null,
            "object_position": null,
            "order": null,
            "overflow": null,
            "overflow_x": null,
            "overflow_y": null,
            "padding": null,
            "right": null,
            "top": null,
            "visibility": null,
            "width": null
          }
        },
        "654f1303a20d443d8d1641b5d0142ceb": {
          "model_module": "@jupyter-widgets/controls",
          "model_name": "DescriptionStyleModel",
          "model_module_version": "1.5.0",
          "state": {
            "_model_module": "@jupyter-widgets/controls",
            "_model_module_version": "1.5.0",
            "_model_name": "DescriptionStyleModel",
            "_view_count": null,
            "_view_module": "@jupyter-widgets/base",
            "_view_module_version": "1.2.0",
            "_view_name": "StyleView",
            "description_width": ""
          }
        },
        "35fc63b7e78f4671ac0945b979577999": {
          "model_module": "@jupyter-widgets/base",
          "model_name": "LayoutModel",
          "model_module_version": "1.2.0",
          "state": {
            "_model_module": "@jupyter-widgets/base",
            "_model_module_version": "1.2.0",
            "_model_name": "LayoutModel",
            "_view_count": null,
            "_view_module": "@jupyter-widgets/base",
            "_view_module_version": "1.2.0",
            "_view_name": "LayoutView",
            "align_content": null,
            "align_items": null,
            "align_self": null,
            "border": null,
            "bottom": null,
            "display": null,
            "flex": null,
            "flex_flow": null,
            "grid_area": null,
            "grid_auto_columns": null,
            "grid_auto_flow": null,
            "grid_auto_rows": null,
            "grid_column": null,
            "grid_gap": null,
            "grid_row": null,
            "grid_template_areas": null,
            "grid_template_columns": null,
            "grid_template_rows": null,
            "height": null,
            "justify_content": null,
            "justify_items": null,
            "left": null,
            "margin": null,
            "max_height": null,
            "max_width": null,
            "min_height": null,
            "min_width": null,
            "object_fit": null,
            "object_position": null,
            "order": null,
            "overflow": null,
            "overflow_x": null,
            "overflow_y": null,
            "padding": null,
            "right": null,
            "top": null,
            "visibility": null,
            "width": null
          }
        },
        "eccdef8ec0d94d6f96a681bef64f95d8": {
          "model_module": "@jupyter-widgets/controls",
          "model_name": "ProgressStyleModel",
          "model_module_version": "1.5.0",
          "state": {
            "_model_module": "@jupyter-widgets/controls",
            "_model_module_version": "1.5.0",
            "_model_name": "ProgressStyleModel",
            "_view_count": null,
            "_view_module": "@jupyter-widgets/base",
            "_view_module_version": "1.2.0",
            "_view_name": "StyleView",
            "bar_color": null,
            "description_width": ""
          }
        },
        "f0ccf4c042ac474a92c5522526b9fb24": {
          "model_module": "@jupyter-widgets/base",
          "model_name": "LayoutModel",
          "model_module_version": "1.2.0",
          "state": {
            "_model_module": "@jupyter-widgets/base",
            "_model_module_version": "1.2.0",
            "_model_name": "LayoutModel",
            "_view_count": null,
            "_view_module": "@jupyter-widgets/base",
            "_view_module_version": "1.2.0",
            "_view_name": "LayoutView",
            "align_content": null,
            "align_items": null,
            "align_self": null,
            "border": null,
            "bottom": null,
            "display": null,
            "flex": null,
            "flex_flow": null,
            "grid_area": null,
            "grid_auto_columns": null,
            "grid_auto_flow": null,
            "grid_auto_rows": null,
            "grid_column": null,
            "grid_gap": null,
            "grid_row": null,
            "grid_template_areas": null,
            "grid_template_columns": null,
            "grid_template_rows": null,
            "height": null,
            "justify_content": null,
            "justify_items": null,
            "left": null,
            "margin": null,
            "max_height": null,
            "max_width": null,
            "min_height": null,
            "min_width": null,
            "object_fit": null,
            "object_position": null,
            "order": null,
            "overflow": null,
            "overflow_x": null,
            "overflow_y": null,
            "padding": null,
            "right": null,
            "top": null,
            "visibility": null,
            "width": null
          }
        },
        "083a0932f95f4ef98e3af236ded10c3d": {
          "model_module": "@jupyter-widgets/controls",
          "model_name": "DescriptionStyleModel",
          "model_module_version": "1.5.0",
          "state": {
            "_model_module": "@jupyter-widgets/controls",
            "_model_module_version": "1.5.0",
            "_model_name": "DescriptionStyleModel",
            "_view_count": null,
            "_view_module": "@jupyter-widgets/base",
            "_view_module_version": "1.2.0",
            "_view_name": "StyleView",
            "description_width": ""
          }
        }
      }
    }
  },
  "cells": [
    {
      "cell_type": "markdown",
      "metadata": {
        "id": "view-in-github",
        "colab_type": "text"
      },
      "source": [
        "<a href=\"https://colab.research.google.com/github/ArshHp/LLM/blob/main/kg_create.ipynb\" target=\"_parent\"><img src=\"https://colab.research.google.com/assets/colab-badge.svg\" alt=\"Open In Colab\"/></a>"
      ]
    },
    {
      "cell_type": "code",
      "execution_count": 51,
      "metadata": {
        "id": "qHBOT-9eiBEo"
      },
      "outputs": [],
      "source": []
    },
    {
      "cell_type": "markdown",
      "source": [
        "Read the datafile from inputfile_extractor and process it Create the knowledge graph for the documents\n"
      ],
      "metadata": {
        "id": "7ILKxgcwiKt3"
      }
    },
    {
      "cell_type": "markdown",
      "source": [],
      "metadata": {
        "id": "6T-ulDPsiI7j"
      }
    },
    {
      "cell_type": "code",
      "source": [
        "!pip install -q load_dotenv"
      ],
      "metadata": {
        "id": "qxiv_Lo_iMcZ"
      },
      "execution_count": 52,
      "outputs": []
    },
    {
      "cell_type": "code",
      "source": [
        "!pip install -q langchain_community"
      ],
      "metadata": {
        "id": "yLCSpUkIiaeX"
      },
      "execution_count": 53,
      "outputs": []
    },
    {
      "cell_type": "code",
      "source": [
        "from dotenv import load_dotenv\n",
        "import os\n",
        "\n",
        "# Common data processing\n",
        "import json\n",
        "import textwrap\n",
        "\n",
        "# Langchain\n",
        "from langchain_community.graphs import Neo4jGraph\n",
        "from langchain_community.vectorstores import Neo4jVector\n",
        "from langchain.text_splitter import RecursiveCharacterTextSplitter\n",
        "from langchain.chains import RetrievalQAWithSourcesChain\n",
        "\n",
        "\n",
        "\n",
        "# Warning control\n",
        "import warnings\n",
        "warnings.filterwarnings(\"ignore\")"
      ],
      "metadata": {
        "id": "nnH-6OjQiSxT"
      },
      "execution_count": 54,
      "outputs": []
    },
    {
      "cell_type": "code",
      "source": [
        "!pip install -q neo4j"
      ],
      "metadata": {
        "id": "tO6Unsv5jUHa"
      },
      "execution_count": 55,
      "outputs": []
    },
    {
      "cell_type": "markdown",
      "source": [
        "NEO4J_URI = 'neo4j+s://ec3e319b.databases.neo4j.io:7687'\n",
        "\n",
        "NEO4J_USERNAME = 'neo4j'\n",
        "\n",
        "NEO4J_PASSWORD = 'o1supQkFCHQPMOG1Z9Usk39RU8Wf6FzAbPhDxEVhZEo'\n",
        "\n",
        "NEO4J_DATABASE = 'neo4j"
      ],
      "metadata": {
        "id": "ukCCOQK9jYVI"
      }
    },
    {
      "cell_type": "code",
      "source": [
        "NEO4J_URI = 'neo4j+s://ec3e319b.databases.neo4j.io:7687'\n",
        "NEO4J_USERNAME = 'neo4j'\n",
        "NEO4J_PASSWORD = 'o1supQkFCHQPMOG1Z9Usk39RU8Wf6FzAbPhDxEVhZEo'\n",
        "NEO4J_DATABASE = 'neo4j'"
      ],
      "metadata": {
        "id": "UBua-sGGjnEV"
      },
      "execution_count": 56,
      "outputs": []
    },
    {
      "cell_type": "code",
      "source": [
        "# Load from environment\n",
        "load_dotenv('.env', override=True)\n",
        "#NEO4J_URI = os.getenv('NEO4J_URI')\n",
        "#NEO4J_USERNAME = os.getenv('NEO4J_USERNAME')\n",
        "#NEO4J_PASSWORD = os.getenv('NEO4J_PASSWORD')\n",
        "#NEO4J_DATABASE = os.getenv('NEO4J_DATABASE')\n",
        "\n",
        "# Global constants\n",
        "VECTOR_INDEX_NAME = 'opsb_suite_chunks'\n",
        "VECTOR_NODE_LABEL = 'Chunk'\n",
        "VECTOR_SOURCE_PROPERTY = 'text'\n",
        "VECTOR_EMBEDDING_PROPERTY = 'textEmbedding'"
      ],
      "metadata": {
        "id": "8y1VN9FVin3Z"
      },
      "execution_count": 57,
      "outputs": []
    },
    {
      "cell_type": "code",
      "source": [
        "from google.colab import drive\n",
        "drive.mount('/content/drive')\n"
      ],
      "metadata": {
        "colab": {
          "base_uri": "https://localhost:8080/"
        },
        "id": "TcLMK3XekXlY",
        "outputId": "eae98a55-72f6-4b91-a1d7-460c0e7d35a5"
      },
      "execution_count": 58,
      "outputs": [
        {
          "output_type": "stream",
          "name": "stdout",
          "text": [
            "Drive already mounted at /content/drive; to attempt to forcibly remount, call drive.mount(\"/content/drive\", force_remount=True).\n"
          ]
        }
      ]
    },
    {
      "cell_type": "code",
      "source": [
        "Inputfile = 'drive/My Drive/output.json'"
      ],
      "metadata": {
        "id": "Jo32hVvQlh1y"
      },
      "execution_count": 59,
      "outputs": []
    },
    {
      "cell_type": "code",
      "source": [
        "first_file_as_object = json.load(open(Inputfile))"
      ],
      "metadata": {
        "id": "1MIK6R34kx5c"
      },
      "execution_count": 60,
      "outputs": []
    },
    {
      "cell_type": "code",
      "source": [
        "import json\n",
        "\n",
        "# Initialize an empty list to hold the parsed JSON objects\n",
        "json_objects = []\n",
        "\n",
        "# Iterate through each item in the list and convert it to a dictionary\n",
        "for item in first_file_as_object:\n",
        "    try:\n",
        "        json_object = json.loads(item)  # Parse the string into a dictionary\n",
        "        json_objects.append(json_object)  # Append to the list of JSON objects\n",
        "    except json.JSONDecodeError as e:\n",
        "        print(f\"Error decoding JSON: {e}\")\n",
        "\n",
        "# Convert the list of dictionaries into a JSON string\n",
        "json_result = json.dumps(json_objects, indent=4)\n",
        "\n",
        "# Print the final JSON object\n",
        "#print(json_result)\n",
        "with open('temp.json','w') as json_file:\n",
        "    json.dump(json_objects,json_file,indent=4)\n",
        "print (\"JSON file created successfully\")"
      ],
      "metadata": {
        "colab": {
          "base_uri": "https://localhost:8080/"
        },
        "id": "U3G9Pk-oeZBm",
        "outputId": "614e4246-2470-41e5-c2ed-4121c7c964fd"
      },
      "execution_count": 61,
      "outputs": [
        {
          "output_type": "stream",
          "name": "stdout",
          "text": [
            "JSON file created successfully\n"
          ]
        }
      ]
    },
    {
      "cell_type": "code",
      "source": [
        "first_file_as_object_new = json.load(open('temp.json'))"
      ],
      "metadata": {
        "id": "W9dwvMzzfAeQ"
      },
      "execution_count": 62,
      "outputs": []
    },
    {
      "cell_type": "code",
      "source": [
        "for k,v in first_file_as_object_new[0].items():\n",
        "    print(k, type(v))"
      ],
      "metadata": {
        "colab": {
          "base_uri": "https://localhost:8080/"
        },
        "id": "vpsG2GmgfK8y",
        "outputId": "0f470830-b4fc-43b6-c2ec-5d5d8a63c353"
      },
      "execution_count": 63,
      "outputs": [
        {
          "output_type": "stream",
          "name": "stdout",
          "text": [
            "Issue <class 'str'>\n",
            "Cause <class 'str'>\n",
            "Solution <class 'str'>\n"
          ]
        }
      ]
    },
    {
      "cell_type": "code",
      "source": [
        "item1_issue = first_file_as_object_new[0]['Issue']\n",
        "print (item1_issue)"
      ],
      "metadata": {
        "colab": {
          "base_uri": "https://localhost:8080/"
        },
        "id": "zyXSMH2Tl5wP",
        "outputId": "faa8eda8-63f6-432a-cad4-98e2987974f0"
      },
      "execution_count": 64,
      "outputs": [
        {
          "output_type": "stream",
          "name": "stdout",
          "text": [
            "Failed creating reader to topic in scheduler\n",
            "pod log\n",
            "\n",
            "When deploying AWS in a shared OPTIC Data Lake environment with Operations Bridge as provider, an error was encountered in the\n",
            "scheduler pod NFS logs.\n"
          ]
        }
      ]
    },
    {
      "cell_type": "code",
      "source": [
        "text_splitter = RecursiveCharacterTextSplitter(\n",
        "    chunk_size = 50,\n",
        "    chunk_overlap  = 5,\n",
        "    length_function = len,\n",
        "    is_separator_regex = False,\n",
        ")"
      ],
      "metadata": {
        "id": "nFCskpuaxCuL"
      },
      "execution_count": 65,
      "outputs": []
    },
    {
      "cell_type": "code",
      "source": [
        "item1_issues_chunks = text_splitter.split_text(item1_issue)"
      ],
      "metadata": {
        "id": "j7Sl0Sk02BPT"
      },
      "execution_count": 66,
      "outputs": []
    },
    {
      "cell_type": "code",
      "source": [
        "type(item1_issues_chunks)"
      ],
      "metadata": {
        "colab": {
          "base_uri": "https://localhost:8080/"
        },
        "id": "smyG5LmJ2Uex",
        "outputId": "0171d94d-7223-45da-b73e-31b98a22d00e"
      },
      "execution_count": 67,
      "outputs": [
        {
          "output_type": "execute_result",
          "data": {
            "text/plain": [
              "list"
            ]
          },
          "metadata": {},
          "execution_count": 67
        }
      ]
    },
    {
      "cell_type": "code",
      "source": [
        "len(item1_issues_chunks)"
      ],
      "metadata": {
        "colab": {
          "base_uri": "https://localhost:8080/"
        },
        "id": "UwVnmniX2YIT",
        "outputId": "178dd789-5aaa-45bf-b190-d27e6d6c2048"
      },
      "execution_count": 68,
      "outputs": [
        {
          "output_type": "execute_result",
          "data": {
            "text/plain": [
              "6"
            ]
          },
          "metadata": {},
          "execution_count": 68
        }
      ]
    },
    {
      "cell_type": "code",
      "source": [
        "item1_issues_chunks[0]"
      ],
      "metadata": {
        "colab": {
          "base_uri": "https://localhost:8080/",
          "height": 35
        },
        "id": "40UHdQ_k2bhb",
        "outputId": "a38f85b9-f252-422d-968c-7817b3e24e8c"
      },
      "execution_count": 69,
      "outputs": [
        {
          "output_type": "execute_result",
          "data": {
            "text/plain": [
              "'Failed creating reader to topic in scheduler'"
            ],
            "application/vnd.google.colaboratory.intrinsic+json": {
              "type": "string"
            }
          },
          "metadata": {},
          "execution_count": 69
        }
      ]
    },
    {
      "cell_type": "code",
      "source": [
        "def getrecords(first_file_as_object,content_source):\n",
        "  chunks_with_metadata = [] # use this to accumlate chunk records\n",
        "  chunk_seq_id = 0\n",
        "  for item in first_file_as_object:\n",
        "    for data in ['Issue','Cause','Solution']:# pull these keys from the json\n",
        "      item_text = item[data] # grab the text of the item\n",
        "      #item_text_chunks = text_splitter.split_text(item_text) # split the text into chunks\n",
        "      item_text_chunks = item_text # Chunk is too small so not doing check\n",
        "      chunks_with_metadata.append({\n",
        "                'text': item_text_chunks,\n",
        "                'contentType': data,\n",
        "                # metadata from looping...\n",
        "                'chunkSeqId': chunk_seq_id,\n",
        "                'source':content_source\n",
        "                # metadata from file...\n",
        "                #Add the metadata for files like filename etc in future\n",
        "            })\n",
        "      chunk_seq_id += 1\n",
        "    return chunks_with_metadata\n"
      ],
      "metadata": {
        "id": "bQeP76Uh5H_l"
      },
      "execution_count": 70,
      "outputs": []
    },
    {
      "cell_type": "code",
      "source": [
        "response = getrecords(first_file_as_object_new,VECTOR_INDEX_NAME)\n",
        "print (\"Chunks for knowledge graph:\\n\", response)\n"
      ],
      "metadata": {
        "colab": {
          "base_uri": "https://localhost:8080/"
        },
        "id": "hWwiqMFvdKmr",
        "outputId": "38fa56e8-92ec-4674-9807-e24087c8217e"
      },
      "execution_count": 71,
      "outputs": [
        {
          "output_type": "stream",
          "name": "stdout",
          "text": [
            "Chunks for knowledge graph:\n",
            " [{'text': 'Failed creating reader to topic in scheduler\\npod log\\n\\nWhen deploying AWS in a shared OPTIC Data Lake environment with Operations Bridge as provider, an error was encountered in the\\nscheduler pod NFS logs.', 'contentType': 'Issue', 'chunkSeqId': 0, 'source': 'opsb_suite_chunks'}, {'text': 'This occurs when there is a connection error between the Message Bus and Vertica. Following is the error recorded in the scheduler pod\\nNFS logs:\\nFailed creating reader to topic - requesting restart: ConnectError | Zero message count found in topic!', 'contentType': 'Cause', 'chunkSeqId': 1, 'source': 'opsb_suite_chunks'}, {'text': 'Perform the following steps as a workaround to resolve this error:\\n1. Run the following command to add the existing OpsB suite chart values to the helmvalues_opsb.yaml:\\nhelm get values opsb -n opsb -o yaml > helmvalues_opsb.yaml\\n2. Update the following parameters in the helmvalues_opsb.yaml file and set the values as shown below:\\npulsar: pulsar.itomqapri.saqa-aws.cloud\\nexternalDNS:\\nenabled: true\\n3. Run the following command to update the deployment:\\nhelm upgrade opsb -n opsb -f helmvalues_opsb.yaml <suite_chart_tgz_path> --timeout=20m\\n4. Verify the following new entries created for the Message Bus in AWS Route53 service:\\nA-record\\nTXT-record\\n5. Ensure that there are no issues in the data flow and the Message Bus to Vertica connection is restored.', 'contentType': 'Solution', 'chunkSeqId': 2, 'source': 'opsb_suite_chunks'}]\n"
          ]
        }
      ]
    },
    {
      "cell_type": "code",
      "source": [
        "merge_chunk_node_query = \"\"\"\n",
        "MERGE(mergedChunk:Chunk {chunkId: $chunkParam.chunkSeqId})\n",
        "    ON CREATE SET\n",
        "        mergedChunk.contentType = $chunkParam.contentType,\n",
        "        mergedChunk.chunkSeqId = $chunkParam.chunkSeqId,\n",
        "        mergedChunk.text = $chunkParam.text,\n",
        "        mergedChunk.source = $chunkParam.source\n",
        "RETURN mergedChunk\n",
        "\"\"\""
      ],
      "metadata": {
        "id": "ulTarX7kdKpR"
      },
      "execution_count": 73,
      "outputs": []
    },
    {
      "cell_type": "code",
      "source": [
        "NEO4J_URI = 'neo4j+s://ec3e319b.databases.neo4j.io:7687'\n",
        "NEO4J_USERNAME = 'neo4j'\n",
        "NEO4J_PASSWORD = 'o1supQkFCHQPMOG1Z9Usk39RU8Wf6FzAbPhDxEVhZEo'\n",
        "NEO4J_DATABASE = 'neo4j'\n",
        "\n",
        "kg = Neo4jGraph(\n",
        "    url=NEO4J_URI, username=NEO4J_USERNAME, password=NEO4J_PASSWORD, database=NEO4J_DATABASE\n",
        ")"
      ],
      "metadata": {
        "id": "8SLpSK64dKr5"
      },
      "execution_count": 51,
      "outputs": []
    },
    {
      "cell_type": "code",
      "source": [
        "kg.query(merge_chunk_node_query,\n",
        "         params={'chunkParam':response[0]})"
      ],
      "metadata": {
        "id": "BWfKyKLidKur",
        "colab": {
          "base_uri": "https://localhost:8080/"
        },
        "outputId": "27efd8ab-81bd-499f-b402-fa3108247106"
      },
      "execution_count": 76,
      "outputs": [
        {
          "output_type": "execute_result",
          "data": {
            "text/plain": [
              "[{'mergedChunk': {'text': 'Failed creating reader to topic in scheduler\\npod log\\n\\nWhen deploying AWS in a shared OPTIC Data Lake environment with Operations Bridge as provider, an error was encountered in the\\nscheduler pod NFS logs.',\n",
              "   'source': 'opsb_suite_chunks',\n",
              "   'chunkId': 0,\n",
              "   'contentType': 'Issue',\n",
              "   'chunkSeqId': 0}}]"
            ]
          },
          "metadata": {},
          "execution_count": 76
        }
      ]
    },
    {
      "cell_type": "code",
      "source": [
        "kg.query(\"\"\"\n",
        "CREATE CONSTRAINT unique_chunk IF NOT EXISTS\n",
        "    FOR (c:Chunk) REQUIRE c.chunkId IS UNIQUE\n",
        "\"\"\")"
      ],
      "metadata": {
        "id": "HKuqnSk-dK09",
        "colab": {
          "base_uri": "https://localhost:8080/"
        },
        "outputId": "0525e97e-6097-4a7b-e0c0-d31bf6452552"
      },
      "execution_count": 77,
      "outputs": [
        {
          "output_type": "execute_result",
          "data": {
            "text/plain": [
              "[]"
            ]
          },
          "metadata": {},
          "execution_count": 77
        }
      ]
    },
    {
      "cell_type": "code",
      "source": [
        "kg.query(\"SHOW INDEXES\")"
      ],
      "metadata": {
        "id": "3_bRwR0BdK33",
        "colab": {
          "base_uri": "https://localhost:8080/"
        },
        "outputId": "514930ea-1de5-49e6-b79f-2e4ee00fd29e"
      },
      "execution_count": 78,
      "outputs": [
        {
          "output_type": "execute_result",
          "data": {
            "text/plain": [
              "[{'id': 2,\n",
              "  'name': 'Property_1_DocumentID_uniq',\n",
              "  'state': 'ONLINE',\n",
              "  'populationPercent': 100.0,\n",
              "  'type': 'RANGE',\n",
              "  'entityType': 'NODE',\n",
              "  'labelsOrTypes': ['DocumentID'],\n",
              "  'properties': ['Property 1'],\n",
              "  'indexProvider': 'range-1.0',\n",
              "  'owningConstraint': 'Property_1_DocumentID_uniq',\n",
              "  'lastRead': neo4j.time.DateTime(2024, 9, 12, 14, 44, 42, 350000000, tzinfo=<UTC>),\n",
              "  'readCount': 91},\n",
              " {'id': 0,\n",
              "  'name': 'index_343aff4e',\n",
              "  'state': 'ONLINE',\n",
              "  'populationPercent': 100.0,\n",
              "  'type': 'LOOKUP',\n",
              "  'entityType': 'NODE',\n",
              "  'labelsOrTypes': None,\n",
              "  'properties': None,\n",
              "  'indexProvider': 'token-lookup-1.0',\n",
              "  'owningConstraint': None,\n",
              "  'lastRead': neo4j.time.DateTime(2024, 9, 17, 15, 40, 22, 456000000, tzinfo=<UTC>),\n",
              "  'readCount': 162},\n",
              " {'id': 1,\n",
              "  'name': 'index_f7700477',\n",
              "  'state': 'ONLINE',\n",
              "  'populationPercent': 100.0,\n",
              "  'type': 'LOOKUP',\n",
              "  'entityType': 'RELATIONSHIP',\n",
              "  'labelsOrTypes': None,\n",
              "  'properties': None,\n",
              "  'indexProvider': 'token-lookup-1.0',\n",
              "  'owningConstraint': None,\n",
              "  'lastRead': neo4j.time.DateTime(2024, 9, 12, 15, 8, 1, 420000000, tzinfo=<UTC>),\n",
              "  'readCount': 3},\n",
              " {'id': 4,\n",
              "  'name': 'unique_chunk',\n",
              "  'state': 'ONLINE',\n",
              "  'populationPercent': 100.0,\n",
              "  'type': 'RANGE',\n",
              "  'entityType': 'NODE',\n",
              "  'labelsOrTypes': ['Chunk'],\n",
              "  'properties': ['chunkId'],\n",
              "  'indexProvider': 'range-1.0',\n",
              "  'owningConstraint': 'unique_chunk',\n",
              "  'lastRead': None,\n",
              "  'readCount': 0}]"
            ]
          },
          "metadata": {},
          "execution_count": 78
        }
      ]
    },
    {
      "cell_type": "code",
      "source": [
        "node_count = 0\n",
        "for chunk in response:\n",
        "    print(f\"Creating `:Chunk` node for chunk ID {chunk['chunkSeqId']}\")\n",
        "    kg.query(merge_chunk_node_query,\n",
        "            params={\n",
        "                'chunkParam': chunk\n",
        "            })\n",
        "    node_count += 1\n",
        "print(f\"Created {node_count} nodes\")"
      ],
      "metadata": {
        "colab": {
          "base_uri": "https://localhost:8080/"
        },
        "id": "hI1a_Shtr6wP",
        "outputId": "d52be011-2103-4017-aef1-444eae80c0f7"
      },
      "execution_count": 79,
      "outputs": [
        {
          "output_type": "stream",
          "name": "stdout",
          "text": [
            "Creating `:Chunk` node for chunk ID 0\n",
            "Creating `:Chunk` node for chunk ID 1\n",
            "Creating `:Chunk` node for chunk ID 2\n",
            "Created 3 nodes\n"
          ]
        }
      ]
    },
    {
      "cell_type": "code",
      "source": [
        "kg.query(\"\"\"\n",
        "         MATCH (n)\n",
        "         RETURN count(n) as nodeCount\n",
        "         \"\"\")"
      ],
      "metadata": {
        "colab": {
          "base_uri": "https://localhost:8080/"
        },
        "id": "7tTPArUMsQFk",
        "outputId": "3de70d00-f767-4606-f197-f2c7d79f8ec4"
      },
      "execution_count": 80,
      "outputs": [
        {
          "output_type": "execute_result",
          "data": {
            "text/plain": [
              "[{'nodeCount': 134}]"
            ]
          },
          "metadata": {},
          "execution_count": 80
        }
      ]
    },
    {
      "cell_type": "code",
      "source": [
        "kg.query(\"\"\"\n",
        "    DROP INDEX `opsb_suite_chunks` IF EXISTS\n",
        "\"\"\")"
      ],
      "metadata": {
        "colab": {
          "base_uri": "https://localhost:8080/"
        },
        "id": "IatBiCwc7H4c",
        "outputId": "6c5e5d53-49e5-46e1-e98d-35e4e0428c91"
      },
      "execution_count": 95,
      "outputs": [
        {
          "output_type": "execute_result",
          "data": {
            "text/plain": [
              "[]"
            ]
          },
          "metadata": {},
          "execution_count": 95
        }
      ]
    },
    {
      "cell_type": "code",
      "source": [
        "kg.query(\"\"\"\n",
        "         CREATE VECTOR INDEX `opsb_suite_chunks` IF NOT EXISTS\n",
        "          FOR (c:Chunk) ON (c.textEmbedding)\n",
        "          OPTIONS { indexConfig: {\n",
        "            `vector.dimensions`: 768,\n",
        "            `vector.similarity_function`: 'cosine'\n",
        "         }}\n",
        "\"\"\")"
      ],
      "metadata": {
        "colab": {
          "base_uri": "https://localhost:8080/"
        },
        "id": "7cjnVLrbusbv",
        "outputId": "71596203-b03d-4747-f3f8-f30af59b8f55"
      },
      "execution_count": 96,
      "outputs": [
        {
          "output_type": "execute_result",
          "data": {
            "text/plain": [
              "[]"
            ]
          },
          "metadata": {},
          "execution_count": 96
        }
      ]
    },
    {
      "cell_type": "code",
      "source": [],
      "metadata": {
        "id": "tadS9VikwAH4"
      },
      "execution_count": null,
      "outputs": []
    },
    {
      "cell_type": "code",
      "source": [
        "kg.query(\"SHOW INDEXES\")"
      ],
      "metadata": {
        "colab": {
          "base_uri": "https://localhost:8080/"
        },
        "id": "hroleWakvOcp",
        "outputId": "a39277d7-e640-4911-eb79-50809bc273c1"
      },
      "execution_count": 97,
      "outputs": [
        {
          "output_type": "execute_result",
          "data": {
            "text/plain": [
              "[{'id': 2,\n",
              "  'name': 'Property_1_DocumentID_uniq',\n",
              "  'state': 'ONLINE',\n",
              "  'populationPercent': 100.0,\n",
              "  'type': 'RANGE',\n",
              "  'entityType': 'NODE',\n",
              "  'labelsOrTypes': ['DocumentID'],\n",
              "  'properties': ['Property 1'],\n",
              "  'indexProvider': 'range-1.0',\n",
              "  'owningConstraint': 'Property_1_DocumentID_uniq',\n",
              "  'lastRead': neo4j.time.DateTime(2024, 9, 12, 14, 44, 42, 350000000, tzinfo=<UTC>),\n",
              "  'readCount': 91},\n",
              " {'id': 0,\n",
              "  'name': 'index_343aff4e',\n",
              "  'state': 'ONLINE',\n",
              "  'populationPercent': 100.0,\n",
              "  'type': 'LOOKUP',\n",
              "  'entityType': 'NODE',\n",
              "  'labelsOrTypes': None,\n",
              "  'properties': None,\n",
              "  'indexProvider': 'token-lookup-1.0',\n",
              "  'owningConstraint': None,\n",
              "  'lastRead': neo4j.time.DateTime(2024, 9, 17, 16, 44, 11, 797000000, tzinfo=<UTC>),\n",
              "  'readCount': 360},\n",
              " {'id': 1,\n",
              "  'name': 'index_f7700477',\n",
              "  'state': 'ONLINE',\n",
              "  'populationPercent': 100.0,\n",
              "  'type': 'LOOKUP',\n",
              "  'entityType': 'RELATIONSHIP',\n",
              "  'labelsOrTypes': None,\n",
              "  'properties': None,\n",
              "  'indexProvider': 'token-lookup-1.0',\n",
              "  'owningConstraint': None,\n",
              "  'lastRead': neo4j.time.DateTime(2024, 9, 12, 15, 8, 1, 420000000, tzinfo=<UTC>),\n",
              "  'readCount': 3},\n",
              " {'id': 6,\n",
              "  'name': 'opsb_suite_chunks',\n",
              "  'state': 'ONLINE',\n",
              "  'populationPercent': 100.0,\n",
              "  'type': 'VECTOR',\n",
              "  'entityType': 'NODE',\n",
              "  'labelsOrTypes': ['Chunk'],\n",
              "  'properties': ['textEmbedding'],\n",
              "  'indexProvider': 'vector-2.0',\n",
              "  'owningConstraint': None,\n",
              "  'lastRead': None,\n",
              "  'readCount': 0},\n",
              " {'id': 4,\n",
              "  'name': 'unique_chunk',\n",
              "  'state': 'ONLINE',\n",
              "  'populationPercent': 100.0,\n",
              "  'type': 'RANGE',\n",
              "  'entityType': 'NODE',\n",
              "  'labelsOrTypes': ['Chunk'],\n",
              "  'properties': ['chunkId'],\n",
              "  'indexProvider': 'range-1.0',\n",
              "  'owningConstraint': 'unique_chunk',\n",
              "  'lastRead': neo4j.time.DateTime(2024, 9, 17, 15, 53, 50, 685000000, tzinfo=<UTC>),\n",
              "  'readCount': 7}]"
            ]
          },
          "metadata": {},
          "execution_count": 97
        }
      ]
    },
    {
      "cell_type": "code",
      "source": [
        "import torch\n",
        "from transformers import AutoTokenizer, AutoModel\n",
        "\n",
        "# Load the tokenizer and model for E5-base\n",
        "model_name = \"intfloat/e5-base\"\n",
        "tokenizer = AutoTokenizer.from_pretrained(model_name)\n",
        "model = AutoModel.from_pretrained(model_name)\n",
        "\n",
        "# Define a function to get the embeddings\n",
        "def get_text_embedding(text):\n",
        "    # Tokenize the input text\n",
        "    inputs = tokenizer(text, return_tensors=\"pt\", padding=True, truncation=True)\n",
        "\n",
        "    # Pass the tokenized input through the model to get the hidden states\n",
        "    with torch.no_grad():\n",
        "        outputs = model(**inputs)\n",
        "\n",
        "    # Take the output embeddings of the [CLS] token, or you can use pooling for sentence embeddings\n",
        "    embeddings = outputs.last_hidden_state[:, 0, :]  # CLS token is at index 0\n",
        "    return embeddings.squeeze().numpy()  # Return as numpy array for easier manipulation\n",
        "\n",
        "# Sample text\n",
        "text = \"This is a sample text for embedding extraction.\"\n",
        "\n",
        "# Get the embedding for the text\n",
        "embedding = get_text_embedding(text)\n",
        "\n",
        "print(\"Embedding shape:\", embedding.shape)\n",
        "print(\"Embedding vector:\", embedding)\n"
      ],
      "metadata": {
        "colab": {
          "base_uri": "https://localhost:8080/",
          "height": 1000,
          "referenced_widgets": [
            "2ea5c3fb9658432abbc7dab6e7cbfd98",
            "162902972d1642fe8905120728357a48",
            "aaf8b1bcf9474e1c9c768573ba4dd9f0",
            "594913dd49094f2a8ca823b0f5cff949",
            "ca19442da4ff4425a9fc7ea34d6bded8",
            "6d59514287734cce940bd906bbfec1a1",
            "1063d40d98ee467ab6fe0a2bc7c58ad6",
            "abeefb8510274cdb848e0ce34188bbe7",
            "44a8deb6083f4d539ebebd344c1cb6c1",
            "10e27e761f8548558f970f74fbe51d5d",
            "298b008789e04d29936ed199d621376d",
            "88938d1793a9482f9e83cb1732a4f0c2",
            "5249f3ee41464df1891806d833903400",
            "77753dfbc2924eb9a92637fe3dcc0cc1",
            "5942f474de18462dba89cc48c28afaed",
            "4ac3481c4660406ba31d33cf4db85394",
            "f591e92185fc4135990cc581e4a0652b",
            "e1566cc2ac314cf1ad8594a5218dd252",
            "4b10c713b8494013997e4fed849259a9",
            "6fcc6cf0b86744b88e8c0e4733eff81d",
            "b9e2385acc2f4e4682db7ebb3bf6ccf1",
            "e41d8151379744758692360667f289c4",
            "c04d2ddae4654dddb04d9e1374e838e7",
            "ce81ed8ff3a24e798a8bee3f955b5e90",
            "3105ba074e3d4e22af78dd64ddb8e58d",
            "8c41b02671b243c8874c3a82cf309de8",
            "97a82cc174e74de7bb1b98a1bd39201f",
            "0a70221587194b1a9ec89cece66b3304",
            "f169331f85b24140877f1841eeb01a4a",
            "59c2ab6ede4c442bb9edf4e80501fb8a",
            "7a4a1d05484d4f8099f58d367e0000a8",
            "580f57bdf48b4a54bad9973c32c5520f",
            "07af686fe2464937aa7e64c4c940c967",
            "f7bdea0fdcb34c00a886868670770b3a",
            "ebfbbf9e172246238ded219cfb10e0f6",
            "532e9ca0108042fb978b444997f9ef79",
            "fc57753737b8454ba01a5f75d9b82b1b",
            "ec3a15aacb634d9695e709c1d5f7fe44",
            "5e5a0091c3384553b8578bc3e5eeec10",
            "d03b86b873944e9991427e65d99ae47a",
            "88b327295491472f9491d85402f47fba",
            "7b67419cddf04f48b237ce2bbfdbe83e",
            "3906d8ac9c094a5e98ba766a8bc7d15f",
            "89d3ca31331b4596b14060aa2a3f2acf",
            "ac5a2c5372344ace90215f1ccaf092b1",
            "625212baeed74f278d8bcc4b6a161c93",
            "f217375883824f88af5ad972f82a16be",
            "0f2a42e986024477a908572cb67fe4ee",
            "eef61edafebe42b2b3565a6d177885a1",
            "449bb5071486417da54cf42dc820cac9",
            "d30fa5caeb1b40539f673335cc0feabc",
            "2c62da927a1e43209e302ae9f0173442",
            "e7c1c33458db4f62921ed686d6a0bd44",
            "20c969c3c0b3485183d5b08b0dae8f9c",
            "f8ad0aaccf9043eabee56c5a748cb0d2",
            "3188dd20ae2f4c9ca5f24e7d05b06838",
            "5bd1787d61a74ae8b80badc8674b376b",
            "26636011e6794fea92b42dbabbc58437",
            "c0d0d349f34f4f9aa736dc1f4e14b2d3",
            "0fba9f47dd6c4c849a3f77a9abe9ad52",
            "12c93fcbb150401da63a3f0f6fc6c92d",
            "654f1303a20d443d8d1641b5d0142ceb",
            "35fc63b7e78f4671ac0945b979577999",
            "eccdef8ec0d94d6f96a681bef64f95d8",
            "f0ccf4c042ac474a92c5522526b9fb24",
            "083a0932f95f4ef98e3af236ded10c3d"
          ]
        },
        "id": "_kj6M8ZTwBmJ",
        "outputId": "da463583-2aa8-4aeb-b282-ca608889aaa4"
      },
      "execution_count": 84,
      "outputs": [
        {
          "output_type": "display_data",
          "data": {
            "text/plain": [
              "tokenizer_config.json:   0%|          | 0.00/356 [00:00<?, ?B/s]"
            ],
            "application/vnd.jupyter.widget-view+json": {
              "version_major": 2,
              "version_minor": 0,
              "model_id": "2ea5c3fb9658432abbc7dab6e7cbfd98"
            }
          },
          "metadata": {}
        },
        {
          "output_type": "display_data",
          "data": {
            "text/plain": [
              "vocab.txt:   0%|          | 0.00/232k [00:00<?, ?B/s]"
            ],
            "application/vnd.jupyter.widget-view+json": {
              "version_major": 2,
              "version_minor": 0,
              "model_id": "88938d1793a9482f9e83cb1732a4f0c2"
            }
          },
          "metadata": {}
        },
        {
          "output_type": "display_data",
          "data": {
            "text/plain": [
              "tokenizer.json:   0%|          | 0.00/466k [00:00<?, ?B/s]"
            ],
            "application/vnd.jupyter.widget-view+json": {
              "version_major": 2,
              "version_minor": 0,
              "model_id": "c04d2ddae4654dddb04d9e1374e838e7"
            }
          },
          "metadata": {}
        },
        {
          "output_type": "display_data",
          "data": {
            "text/plain": [
              "special_tokens_map.json:   0%|          | 0.00/112 [00:00<?, ?B/s]"
            ],
            "application/vnd.jupyter.widget-view+json": {
              "version_major": 2,
              "version_minor": 0,
              "model_id": "f7bdea0fdcb34c00a886868670770b3a"
            }
          },
          "metadata": {}
        },
        {
          "output_type": "display_data",
          "data": {
            "text/plain": [
              "config.json:   0%|          | 0.00/645 [00:00<?, ?B/s]"
            ],
            "application/vnd.jupyter.widget-view+json": {
              "version_major": 2,
              "version_minor": 0,
              "model_id": "ac5a2c5372344ace90215f1ccaf092b1"
            }
          },
          "metadata": {}
        },
        {
          "output_type": "display_data",
          "data": {
            "text/plain": [
              "model.safetensors:   0%|          | 0.00/438M [00:00<?, ?B/s]"
            ],
            "application/vnd.jupyter.widget-view+json": {
              "version_major": 2,
              "version_minor": 0,
              "model_id": "3188dd20ae2f4c9ca5f24e7d05b06838"
            }
          },
          "metadata": {}
        },
        {
          "output_type": "stream",
          "name": "stdout",
          "text": [
            "Embedding shape: (768,)\n",
            "Embedding vector: [-2.23132148e-01  4.36401159e-01 -3.79955381e-01 -4.49896246e-01\n",
            "  5.83398044e-01  4.76735592e-01  1.13116808e-01  2.92197287e-01\n",
            " -7.99743891e-01  1.30592152e-01 -5.95337093e-01  3.64148542e-02\n",
            " -3.96158934e-01 -7.98064172e-01 -2.97484070e-01 -3.07159901e-01\n",
            "  3.57971668e-01 -2.36148015e-01  2.53480077e-01 -4.21074539e-01\n",
            " -3.60839278e-01 -4.81658340e-01  8.13271999e-01 -2.21854523e-01\n",
            " -5.51370502e-01  7.92325377e-01  4.14675713e-01  4.92017299e-01\n",
            " -6.90166235e-01 -4.37615812e-01  3.20250511e-01  1.96448803e-01\n",
            " -3.86156797e-01 -4.61367011e-01  4.70961407e-02  3.04419607e-01\n",
            " -9.48509812e-01 -2.81348407e-01 -1.02630578e-01  1.04570217e-01\n",
            " -2.73404866e-01  9.56359208e-01  1.41345650e-01 -3.40980977e-01\n",
            " -4.82236534e-01 -5.15102088e-01 -9.89346683e-01  1.12567198e+00\n",
            " -8.36809695e-01 -9.80176091e-01 -1.14665353e+00  1.58601031e-01\n",
            "  1.05950129e+00 -1.47914499e-01 -7.12537169e-01  5.38705170e-01\n",
            "  9.94031131e-02 -5.24931610e-01  3.15915257e-01 -2.07206875e-01\n",
            "  3.24774504e-01 -3.69886428e-01  4.44199830e-01  6.11937881e-01\n",
            "  4.77509350e-01  8.24524641e-01 -2.53834724e-01 -1.52705889e-02\n",
            " -7.67527819e-01 -6.11823611e-02 -1.82180598e-01  1.34178102e-01\n",
            " -1.39830455e-01 -2.21942693e-01  5.71393609e-01 -2.49357834e-01\n",
            "  2.61304118e-02  6.12973385e-02  3.36962312e-01  7.62729824e-01\n",
            " -5.22290289e-01 -1.84050843e-01 -1.50928795e-01  7.73553610e-01\n",
            "  3.34009171e-01  2.40891501e-01  2.08298489e-01  3.09051633e-01\n",
            " -6.93122223e-02  5.36408484e-01 -9.31821525e-01 -8.18067417e-02\n",
            "  4.49455023e-01 -3.53067279e-01 -1.89127520e-01  6.46170601e-02\n",
            "  1.77772403e-01  1.91541255e-01  1.90364674e-01 -6.42965198e-01\n",
            " -2.58335650e-01 -5.04979491e-01  2.56756335e-01 -1.06664920e+00\n",
            " -3.64534110e-01 -7.76059747e-01  1.10585719e-01 -6.32205531e-02\n",
            " -6.76916420e-01 -1.13694601e-01 -1.30300922e-02 -7.67687023e-01\n",
            " -7.07424402e-01 -2.09390864e-01  1.46849796e-01  1.16178441e+00\n",
            "  9.42396462e-01 -1.88722655e-01  4.51121479e-01 -2.52696991e-01\n",
            "  2.78155029e-01  6.15073025e-01  2.06976965e-01  3.83334488e-01\n",
            " -2.03449637e-01  2.08027568e-03  1.04615128e+00  3.23773980e-01\n",
            " -8.61892223e-01  4.21839915e-02  4.89798546e-01  7.14259028e-01\n",
            " -1.41757518e-01 -4.55880105e-01  8.31186950e-01  4.82293606e-01\n",
            " -5.20740867e-01 -9.89539325e-01  9.81563210e-01 -4.24154073e-01\n",
            "  4.09602314e-01 -6.40996635e-01  3.60429049e-01 -3.58436853e-01\n",
            "  4.38329697e-01 -1.31266820e+00 -7.27164149e-01 -1.25722453e-01\n",
            " -5.33860087e-01  6.34679794e-01 -3.94600421e-01 -7.55933672e-02\n",
            "  7.97044933e-01  2.17220694e-01 -4.90745127e-01  1.82722479e-01\n",
            "  2.37442210e-01 -2.88110882e-01 -1.00525245e-01  2.84725815e-01\n",
            " -5.24336636e-01 -4.29465562e-01  8.82271111e-01 -3.50434184e-01\n",
            " -1.81435689e-01  1.01979196e+00  1.65329292e-01  2.82804221e-01\n",
            " -3.87830943e-01 -5.30869365e-01 -1.18467093e-01  2.52733111e-01\n",
            "  3.27562839e-01 -9.71156359e-01 -1.11834204e+00  3.76473308e-01\n",
            "  1.81910723e-01  6.02711022e-01  5.95412016e-01 -6.72522545e-01\n",
            " -5.43092549e-01  7.34818280e-01 -6.96596950e-02  5.93746424e-01\n",
            "  3.64377320e-01 -1.00306010e+00  1.61687359e-01 -5.42251468e-01\n",
            " -4.19201374e-01  3.68461013e-01 -5.76746464e-01 -9.54844952e-01\n",
            "  5.16123652e-01 -6.20276988e-01  8.12112093e-01 -5.83711386e-01\n",
            " -5.51176786e-01  2.70464178e-02 -4.91533577e-01  9.56124842e-01\n",
            "  4.73289341e-01  9.05167878e-01  5.09747803e-01 -4.85487700e-01\n",
            " -1.49484918e-01  7.68608510e-01 -4.73356158e-01 -6.25711918e-01\n",
            "  6.02537096e-01  7.71893442e-01  1.83099240e-01 -3.14437896e-01\n",
            "  4.67444658e-01 -6.32460713e-01 -4.68896478e-01 -2.50085503e-01\n",
            "  2.98303217e-01 -1.95171565e-01 -1.89031914e-01 -1.28811806e-01\n",
            "  1.35309911e+00 -3.89030017e-02 -9.75692809e-01  1.56729314e-02\n",
            " -4.87134725e-01  1.22510517e+00  1.00678337e+00  4.87135053e-01\n",
            " -7.23898411e-02 -3.00825834e-01 -7.63850868e-01  2.28952736e-01\n",
            "  2.72073895e-01 -2.52600759e-01 -4.03303891e-01  3.18504095e-01\n",
            "  1.29988983e-01  1.60264179e-01  2.61607379e-01 -5.68875194e-01\n",
            "  4.79366153e-01  5.79803824e-01 -7.60142326e-01  4.17877883e-01\n",
            "  3.15467328e-01 -1.56824976e-01  4.62449342e-01 -6.14407599e-01\n",
            "  2.58544058e-01 -4.56968486e-01 -4.82520424e-02 -1.76180258e-01\n",
            " -2.74906576e-01 -2.61143684e-01 -2.73465574e-01 -6.27273381e-01\n",
            " -6.56066015e-02  3.58300030e-01 -9.65775624e-02  7.47584999e-01\n",
            " -5.05742252e-01 -2.68667758e-01 -2.06997365e-01 -9.44739521e-01\n",
            " -4.64086860e-01 -2.97383904e-01  5.15038431e-01 -2.82943726e-01\n",
            "  6.24855816e-01 -5.94283640e-01 -2.06311345e-01  7.96424925e-01\n",
            " -2.25795388e-01  5.87889493e-01  6.98676527e-01 -5.63505411e-01\n",
            "  7.88731396e-01 -3.53297442e-01 -6.23478055e-01 -4.27864701e-01\n",
            " -2.89130658e-01  9.95946825e-01 -9.68240917e-01 -1.54979616e-01\n",
            "  5.25806248e-01 -8.18908930e-01  6.39914751e-01 -6.98529959e-01\n",
            "  2.98178285e-01  2.11977929e-01 -2.12463021e-01  3.44502389e-01\n",
            " -5.33995271e-01  6.56942785e-01  6.76504433e-01  2.53980756e-01\n",
            "  8.70999396e-02 -2.58562058e-01 -2.78216094e-01 -2.79207945e-01\n",
            "  3.20112556e-01  6.69690311e-01 -4.22647595e-01  6.56848133e-01\n",
            "  6.36916101e-01 -1.74534217e-01 -6.15020871e-01 -4.74990696e-01\n",
            " -1.74676192e+00  7.72064775e-02  3.25457871e-01 -1.17971170e+00\n",
            "  2.80554026e-01 -1.64479122e-01  4.55909312e-01  7.36432672e-02\n",
            " -2.66849339e-01  1.91667199e-01 -6.37171745e-01 -6.68636203e-01\n",
            " -6.15105331e-02  3.30600888e-02  6.19277716e-01 -5.89211226e-01\n",
            " -1.46136899e-02  6.67598248e-02  5.84047377e-01  9.11058962e-01\n",
            "  9.02384147e-02 -3.07802558e-01 -2.57933050e-01  3.25263619e-01\n",
            " -3.37780386e-01  1.72414228e-01 -1.98592469e-01 -4.82813269e-01\n",
            "  2.76045799e-01 -3.87004405e-01 -2.02702850e-01 -8.03998053e-01\n",
            " -6.79319352e-02  7.88939521e-02 -4.46098983e-01 -7.24959493e-01\n",
            " -3.76712717e-02  1.66260198e-01  5.88498652e-01 -2.94174492e-01\n",
            " -4.35999990e-01  4.79644775e-01  1.51123986e-01  3.15069526e-01\n",
            " -7.44005591e-02 -3.85832071e-01 -3.04780424e-01 -6.32861018e-01\n",
            "  8.77944231e-01  8.22346359e-02 -5.89151144e-01  1.86404020e-01\n",
            "  2.28538707e-01  3.38893741e-01  1.03971697e-02  5.56685984e-01\n",
            " -3.82169825e-03  8.57281864e-01  4.80389893e-02  6.63219869e-01\n",
            "  3.43100697e-01 -3.69868249e-01 -5.14109373e-01 -8.97130609e-01\n",
            "  6.28752589e-01 -2.63801306e-01  3.44612241e-01 -5.55568039e-01\n",
            "  5.53645313e-01 -2.86491722e-01 -2.85715580e-01  9.65181708e-01\n",
            " -5.04769683e-01 -5.10653019e-01 -1.02315831e+00  4.40212697e-01\n",
            " -2.48122230e-01 -3.80280107e-01  3.33152294e-01  4.35436293e-02\n",
            "  3.31899613e-01 -1.86306052e-02 -2.39444733e-01  2.06358209e-01\n",
            "  3.40897381e-01 -2.48662919e-01  6.50326192e-01  6.19567692e-01\n",
            "  6.27621531e-01  7.38870427e-02  5.16991973e-01 -2.09941924e-01\n",
            " -2.96196938e-01  9.37094092e-02  1.81907937e-01  1.75406292e-01\n",
            "  4.95905697e-01  1.00065157e-01 -1.34157479e-01 -6.54674053e-01\n",
            " -2.02022009e-02 -6.48410439e-01 -8.17646563e-01  5.26421666e-01\n",
            "  4.12188768e-01 -2.64870189e-02 -5.27605891e-01  3.85010839e-01\n",
            "  1.40412077e-01 -1.42933518e-01  7.25213215e-02 -1.57006338e-01\n",
            "  7.14740753e-01 -5.49023211e-01  2.13700175e-01  1.61294624e-01\n",
            "  4.96788114e-01 -3.36873978e-01  1.91799968e-01 -2.87244350e-01\n",
            "  9.16877836e-02  2.31150895e-01 -7.06457138e-01 -1.28012156e+00\n",
            " -2.28671893e-01 -1.90023169e-01 -1.83554232e-01 -4.58650082e-01\n",
            " -7.29058206e-01  2.82604843e-01 -4.55855638e-01 -4.18472409e-01\n",
            "  3.10285687e-01 -4.26429212e-01  6.30296707e-01 -2.37543553e-01\n",
            " -2.83013105e-01  8.64661992e-01 -3.72035243e-03  5.87045252e-01\n",
            " -1.88328147e-01 -6.15919530e-01  1.74726978e-01 -8.18789229e-02\n",
            "  5.41247189e-01 -8.54778662e-02 -4.31417793e-01  5.19288778e-01\n",
            " -3.16228330e-01  5.16214907e-01  9.76562724e-02 -2.19958156e-01\n",
            " -2.62338966e-01 -1.41069338e-01 -2.05885649e-01 -9.81029272e-02\n",
            "  7.35423446e-01  3.53538580e-02 -1.20605938e-01  1.25158417e+00\n",
            "  1.98387221e-01 -3.03035766e-01 -1.08948159e+00 -1.45037482e-02\n",
            "  2.33664542e-01  2.44973138e-01 -2.05621630e-01 -3.97096038e-01\n",
            "  5.54559886e-01  6.69332683e-01 -2.54507333e-01 -2.92161405e-01\n",
            " -1.31830052e-01 -1.99349418e-01 -3.48896742e-01  8.60627234e-01\n",
            " -3.09759706e-01 -3.03424764e-02  5.59666336e-01  1.85978904e-01\n",
            "  8.50089371e-01 -9.04941261e-01 -1.61013097e-01 -4.10433292e-01\n",
            "  7.40531385e-01 -5.91694295e-01 -7.80531883e-01 -7.74654150e-01\n",
            " -1.00437596e-01  1.77397043e-01  2.85497218e-01 -3.19666155e-02\n",
            "  2.76016057e-01 -9.33055043e-01 -2.86056131e-01 -3.18735838e-01\n",
            "  1.63675398e-01  1.06125556e-01  6.50930345e-01  2.98403025e-01\n",
            " -4.64008331e-01  3.06007534e-01 -5.60740888e-01  4.43730891e-01\n",
            " -6.16948783e-01 -5.54027855e-01  3.97902988e-02  1.66522339e-01\n",
            " -3.85241538e-01  4.10533220e-01  2.58352727e-01 -7.61969090e-02\n",
            " -4.02572118e-02  3.48673433e-01 -2.60257691e-01 -1.09760249e+00\n",
            "  4.77562219e-01  3.94396544e-01  5.78195989e-01 -5.54485619e-01\n",
            "  1.93206131e-01  1.79198861e-01 -1.85775056e-01 -6.48695529e-01\n",
            " -2.71844596e-01  6.10968828e-01 -1.91164821e-01 -4.78590429e-01\n",
            "  1.59307003e-01 -5.08684337e-01 -4.03203934e-01  5.94582036e-02\n",
            "  1.01736151e-01  8.29764605e-01 -1.55782953e-01  5.72754331e-02\n",
            " -5.39528906e-01  3.77904773e-01 -6.14351869e-01  4.45562661e-01\n",
            "  4.54616398e-01  8.49456489e-01  2.56394386e-01 -8.18372071e-01\n",
            " -6.50220215e-01  2.79290378e-01  7.07940906e-02 -8.12016249e-01\n",
            " -3.64174634e-01  5.61405957e-01 -2.66058408e-02 -2.72790343e-01\n",
            "  4.44077760e-01 -5.64335346e-01 -1.15147978e-01  8.72961760e-01\n",
            " -6.27338707e-01 -6.90650403e-01 -5.95811233e-02 -9.04293656e-02\n",
            "  2.62715220e-01 -1.91958267e-02  8.75377208e-02  1.12111044e+00\n",
            "  7.00498641e-01  3.08498777e-02 -6.35939181e-01  5.55334389e-01\n",
            "  7.79053092e-01 -4.40294683e-01 -8.76300037e-02 -2.18739182e-01\n",
            " -7.68372178e-01  1.16928601e+00  9.96326149e-01  2.02468812e-01\n",
            " -3.82691264e-01 -3.37496430e-01  3.70970428e-01 -4.96845841e-01\n",
            "  7.68755674e-01  1.05861020e+00 -3.59788835e-01  8.20552826e-01\n",
            " -4.07876134e-01 -1.14015490e-01 -1.11027613e-01  1.98454261e-01\n",
            " -3.81110609e-01 -6.17280364e-01  2.72719204e-01  3.96252453e-01\n",
            " -9.07331109e-01  6.71023667e-01  8.62940311e-01  2.64650285e-01\n",
            "  4.18901712e-01  2.33585447e-01 -2.37875015e-01  5.66600300e-02\n",
            " -1.01235759e+00  1.17858183e+00  3.97520721e-01 -2.98101544e-01\n",
            " -2.22071841e-01 -1.60302058e-01 -4.91800696e-01 -4.07469034e-01\n",
            " -5.64990103e-01  2.63949126e-01  5.23880422e-02 -3.34907055e-01\n",
            "  1.15456617e+00  6.34994328e-01 -2.82980412e-01 -1.74513996e-01\n",
            "  6.33711576e-01 -3.29463840e-01 -3.67063463e-01 -2.86927879e-01\n",
            "  1.51036873e-01 -3.03349644e-01  3.01707387e-01  4.90690678e-01\n",
            " -4.89731789e-01 -1.33265167e-01 -3.54247242e-01  1.48276478e-01\n",
            "  5.68449982e-02  4.77866203e-01  5.85455179e-01  7.59388626e-01\n",
            " -5.96329749e-01  3.66972238e-01 -3.98843437e-01 -2.36528292e-01\n",
            "  3.86513770e-02 -4.53356057e-01  3.47193778e-01  7.61039138e-01\n",
            "  2.97270507e-01 -2.46556982e-01  3.03813014e-02  5.67173839e-01\n",
            " -6.90563083e-01  3.08619976e-01 -9.29869637e-02  2.08724424e-01\n",
            "  2.21693814e-02  4.53414589e-01  6.11365736e-01  9.16039526e-01\n",
            "  4.58235204e-01 -5.92874736e-03  1.07879114e+00  1.67901024e-01\n",
            " -3.06161135e-01 -1.80591360e-01 -2.57185280e-01  1.26295120e-01\n",
            " -4.82066214e-01  4.07279313e-01  1.39619780e+00  1.38528284e-03\n",
            " -6.10785246e-01 -5.73354423e-01  1.09301364e+00 -5.66165209e-01\n",
            " -2.98408866e-01  8.65437388e-02  1.41217992e-01 -7.22977042e-01\n",
            "  1.15274072e-01  4.76889342e-01 -1.41372681e-01  2.88016617e-01\n",
            "  5.62175632e-01 -1.23597980e-01  4.91523951e-01  6.55182600e-01\n",
            " -5.95347106e-01 -9.18129534e-02 -8.56874790e-03  2.07816646e-01\n",
            "  7.79731750e-01 -4.92568403e-01  1.40528262e-01 -2.99891025e-01\n",
            " -7.84932196e-01  2.68894760e-03 -5.14044166e-01 -2.49071389e-01\n",
            " -3.91569436e-02 -7.48417258e-01 -6.72199488e-01  6.34521604e-01\n",
            " -2.44370848e-01  1.14313304e+00  4.83522773e-01  2.47844547e-01\n",
            "  8.28963101e-01 -5.59455454e-01 -2.81652689e-01 -4.79935110e-01\n",
            "  5.92596889e-01  2.44127009e-02 -3.92858237e-01  5.40358961e-01\n",
            "  3.95530134e-01 -7.04744756e-01  5.87198138e-01  3.67152423e-01\n",
            "  7.34953880e-02  9.05057013e-01 -7.31423020e-01 -8.26303512e-02\n",
            "  1.68572217e-01  2.00263187e-01  5.86596668e-01 -4.86666381e-01\n",
            " -4.75710958e-01 -4.01178300e-01  4.79709655e-01  1.65096068e+00\n",
            " -1.46970525e-01  7.47510076e-01  2.73570091e-01  3.01009178e-01\n",
            " -9.25950408e-01  7.18474388e-01  8.37478697e-01  5.40210426e-01\n",
            " -3.20057899e-01 -4.57094222e-01  2.24288210e-01 -5.47060728e-01\n",
            " -9.61040318e-01 -5.06461978e-01  2.95613497e-01 -6.93313181e-01\n",
            " -1.32009804e-01 -3.00715715e-01 -4.77634728e-01 -2.55950779e-01\n",
            " -7.62680769e-02 -8.10739920e-02 -5.93087792e-01 -1.07144964e+00\n",
            " -2.98033416e-01  2.97432780e-01 -8.45090806e-01  1.13258034e-01\n",
            " -5.04328087e-02  1.44412220e-02  5.94677866e-01  5.81804335e-01\n",
            " -4.78121608e-01  5.13576329e-01  1.53268695e-01  8.74251664e-01]\n"
          ]
        }
      ]
    },
    {
      "cell_type": "code",
      "source": [
        "# Usage\n",
        "# Assuming `kg` is your knowledge graph instance\n",
        "#update_kg_with_e5_embeddings(kg)\n",
        "\n",
        "# Function to query the knowledge graph and update with E5-base embeddings\n",
        "def update_kg_with_e5_embeddings(kg):\n",
        "    # Query the knowledge graph and find chunks with missing text embeddings\n",
        "    result = kg.query(\"\"\"\n",
        "        MATCH (chunk:Chunk) WHERE chunk.textEmbedding IS NULL\n",
        "        RETURN chunk.text AS text\n",
        "    \"\"\")\n",
        "    # Iterate over the results and update the embeddings\n",
        "    for record in result:\n",
        "        text = record[\"text\"]\n",
        "        embedding = get_text_embedding(text)\n",
        "        kg.query(\"\"\"\n",
        "            MATCH (chunk:Chunk {text: $text})\n",
        "            CALL db.create.setNodeVectorProperty(chunk, \"textEmbedding\", $embedding)\n",
        "            RETURN chunk\n",
        "        \"\"\", params={\"text\": text, \"embedding\": embedding})"
      ],
      "metadata": {
        "id": "TNGmPp6T2qmD"
      },
      "execution_count": 98,
      "outputs": []
    },
    {
      "cell_type": "code",
      "source": [
        "update_kg_with_e5_embeddings(kg)"
      ],
      "metadata": {
        "id": "cHdTJWQr3WfA"
      },
      "execution_count": 99,
      "outputs": []
    },
    {
      "cell_type": "code",
      "source": [
        "kg.refresh_schema()\n",
        "print(kg.schema)"
      ],
      "metadata": {
        "colab": {
          "base_uri": "https://localhost:8080/"
        },
        "id": "wxm4Qdkn3i-O",
        "outputId": "de705df2-b8fa-476b-fc42-5f8a2bc82059"
      },
      "execution_count": 100,
      "outputs": [
        {
          "output_type": "stream",
          "name": "stdout",
          "text": [
            "Node properties:\n",
            "DocumentID {Property 1: STRING}\n",
            "Person {id: STRING, name: STRING, human_readable_id: INTEGER, text_unit_ids: LIST, description: STRING, type: STRING, description_embedding: LIST}\n",
            "ACCOUNT {id: STRING, name: STRING, human_readable_id: INTEGER, text_unit_ids: LIST, description: STRING, type: STRING, description_embedding: LIST}\n",
            "ACTION {id: STRING, name: STRING, human_readable_id: INTEGER, text_unit_ids: LIST, description: STRING, type: STRING, description_embedding: LIST}\n",
            "ACTIVITY {id: STRING, name: STRING, human_readable_id: INTEGER, text_unit_ids: LIST, description: STRING, type: STRING, description_embedding: LIST}\n",
            "APPLICATION {id: STRING, name: STRING, human_readable_id: INTEGER, text_unit_ids: LIST, description: STRING, type: STRING, description_embedding: LIST}\n",
            "CALENDAR {id: STRING, name: STRING, human_readable_id: INTEGER, text_unit_ids: LIST, description: STRING, type: STRING, description_embedding: LIST}\n",
            "CONCEPT {id: STRING, name: STRING, human_readable_id: INTEGER, text_unit_ids: LIST, description: STRING, type: STRING, description_embedding: LIST}\n",
            "DEPARTMENT {id: STRING, name: STRING, human_readable_id: INTEGER, text_unit_ids: LIST, description: STRING, type: STRING, description_embedding: LIST}\n",
            "DEVICE {id: STRING, name: STRING, human_readable_id: INTEGER, text_unit_ids: LIST, description: STRING, type: STRING, description_embedding: LIST}\n",
            "DEVICE_PART {id: STRING, name: STRING, human_readable_id: INTEGER, text_unit_ids: LIST, description: STRING, type: STRING, description_embedding: LIST}\n",
            "DIAGNOSTIC_REPORT {id: STRING, name: STRING, human_readable_id: INTEGER, text_unit_ids: LIST, description: STRING, type: STRING, description_embedding: LIST}\n",
            "DOCUMENT {id: STRING, name: STRING, human_readable_id: INTEGER, text_unit_ids: LIST, description: STRING, type: STRING, description_embedding: LIST}\n",
            "ERROR {id: STRING, name: STRING, human_readable_id: INTEGER, text_unit_ids: LIST, description: STRING, type: STRING, description_embedding: LIST}\n",
            "IDENTIFIER {id: STRING, name: STRING, human_readable_id: INTEGER, text_unit_ids: LIST, description: STRING, type: STRING, description_embedding: LIST}\n",
            "LOCATION {id: STRING, name: STRING, human_readable_id: INTEGER, text_unit_ids: LIST, description: STRING, type: STRING, description_embedding: LIST}\n",
            "NETWORK {id: STRING, name: STRING, human_readable_id: INTEGER, text_unit_ids: LIST, description: STRING, type: STRING, description_embedding: LIST}\n",
            "ORGANIZATION {id: STRING, name: STRING, human_readable_id: INTEGER, text_unit_ids: LIST, description: STRING, type: STRING, description_embedding: LIST}\n",
            "PERSON {id: STRING, name: STRING, human_readable_id: INTEGER, text_unit_ids: LIST, description: STRING, type: STRING, description_embedding: LIST}\n",
            "PROTOCOL {id: STRING, name: STRING, human_readable_id: INTEGER, text_unit_ids: LIST, description: STRING, type: STRING, description_embedding: LIST}\n",
            "REQUEST {id: STRING, name: STRING, human_readable_id: INTEGER, text_unit_ids: LIST, description: STRING, type: STRING, description_embedding: LIST}\n",
            "RESOURCE {id: STRING, name: STRING, human_readable_id: INTEGER, text_unit_ids: LIST, description: STRING, type: STRING, description_embedding: LIST}\n",
            "SERVER {id: STRING, name: STRING, human_readable_id: INTEGER, text_unit_ids: LIST, description: STRING, type: STRING, description_embedding: LIST}\n",
            "SETTING {id: STRING, name: STRING, human_readable_id: INTEGER, text_unit_ids: LIST, description: STRING, type: STRING, description_embedding: LIST}\n",
            "SOFTWARE {id: STRING, name: STRING, human_readable_id: INTEGER, text_unit_ids: LIST, description: STRING, type: STRING, description_embedding: LIST}\n",
            "SYSTEM {id: STRING, name: STRING, human_readable_id: INTEGER, text_unit_ids: LIST, description: STRING, type: STRING, description_embedding: LIST}\n",
            "SYSTEM_SETTING {id: STRING, name: STRING, human_readable_id: INTEGER, text_unit_ids: LIST, description: STRING, type: STRING, description_embedding: LIST}\n",
            "TASK {id: STRING, name: STRING, human_readable_id: INTEGER, text_unit_ids: LIST, description: STRING, type: STRING, description_embedding: LIST}\n",
            "TECHNOLOGY {id: STRING, name: STRING, human_readable_id: INTEGER, text_unit_ids: LIST, description: STRING, type: STRING, description_embedding: LIST}\n",
            "TICKET {id: STRING, name: STRING, human_readable_id: INTEGER, text_unit_ids: LIST, description: STRING, type: STRING, description_embedding: LIST}\n",
            "WEBSITE {id: STRING, name: STRING, human_readable_id: INTEGER, text_unit_ids: LIST, description: STRING, type: STRING, description_embedding: LIST}\n",
            "Chunk {chunkId: INTEGER, contentType: STRING, chunkSeqId: INTEGER, text: STRING, source: STRING, textEmbedding: LIST}\n",
            "Relationship properties:\n",
            "RELATED_TO {id: STRING, human_readable_id: STRING, text_unit_ids: LIST, description: STRING, target_degree: INTEGER, weight: FLOAT, rank: INTEGER, source_degree: INTEGER}\n",
            "The relationships:\n",
            "(:Person)-[:RELATED_TO]->(:Person)\n",
            "(:Person)-[:RELATED_TO]->(:ACTIVITY)\n",
            "(:Person)-[:RELATED_TO]->(:APPLICATION)\n",
            "(:Person)-[:RELATED_TO]->(:CONCEPT)\n",
            "(:Person)-[:RELATED_TO]->(:DEVICE)\n",
            "(:Person)-[:RELATED_TO]->(:DIAGNOSTIC_REPORT)\n",
            "(:Person)-[:RELATED_TO]->(:DOCUMENT)\n",
            "(:Person)-[:RELATED_TO]->(:NETWORK)\n",
            "(:Person)-[:RELATED_TO]->(:ORGANIZATION)\n",
            "(:Person)-[:RELATED_TO]->(:PERSON)\n",
            "(:Person)-[:RELATED_TO]->(:PROTOCOL)\n",
            "(:Person)-[:RELATED_TO]->(:SOFTWARE)\n",
            "(:Person)-[:RELATED_TO]->(:SYSTEM)\n",
            "(:Person)-[:RELATED_TO]->(:WEBSITE)\n",
            "(:CALENDAR)-[:RELATED_TO]->(:ORGANIZATION)\n",
            "(:DEVICE)-[:RELATED_TO]->(:Person)\n",
            "(:DEVICE)-[:RELATED_TO]->(:PERSON)\n",
            "(:DEVICE)-[:RELATED_TO]->(:RESOURCE)\n",
            "(:DEVICE)-[:RELATED_TO]->(:SOFTWARE)\n",
            "(:DEVICE)-[:RELATED_TO]->(:APPLICATION)\n",
            "(:DEVICE)-[:RELATED_TO]->(:DEVICE_PART)\n",
            "(:DEVICE)-[:RELATED_TO]->(:SYSTEM_SETTING)\n",
            "(:DEVICE)-[:RELATED_TO]->(:ORGANIZATION)\n",
            "(:DEVICE)-[:RELATED_TO]->(:TICKET)\n",
            "(:DOCUMENT)-[:RELATED_TO]->(:DEVICE)\n",
            "(:DOCUMENT)-[:RELATED_TO]->(:PERSON)\n",
            "(:ERROR)-[:RELATED_TO]->(:ERROR)\n",
            "(:ORGANIZATION)-[:RELATED_TO]->(:TICKET)\n",
            "(:ORGANIZATION)-[:RELATED_TO]->(:PERSON)\n",
            "(:ORGANIZATION)-[:RELATED_TO]->(:CONCEPT)\n",
            "(:PERSON)-[:RELATED_TO]->(:Person)\n",
            "(:PERSON)-[:RELATED_TO]->(:IDENTIFIER)\n",
            "(:PERSON)-[:RELATED_TO]->(:SYSTEM)\n",
            "(:PERSON)-[:RELATED_TO]->(:DEPARTMENT)\n",
            "(:PERSON)-[:RELATED_TO]->(:ORGANIZATION)\n",
            "(:PERSON)-[:RELATED_TO]->(:SOFTWARE)\n",
            "(:PERSON)-[:RELATED_TO]->(:ACCOUNT)\n",
            "(:PERSON)-[:RELATED_TO]->(:ACTION)\n",
            "(:PERSON)-[:RELATED_TO]->(:ACTIVITY)\n",
            "(:PERSON)-[:RELATED_TO]->(:APPLICATION)\n",
            "(:PERSON)-[:RELATED_TO]->(:DEVICE)\n",
            "(:PERSON)-[:RELATED_TO]->(:DIAGNOSTIC_REPORT)\n",
            "(:PERSON)-[:RELATED_TO]->(:DOCUMENT)\n",
            "(:PERSON)-[:RELATED_TO]->(:NETWORK)\n",
            "(:PERSON)-[:RELATED_TO]->(:PROTOCOL)\n",
            "(:PERSON)-[:RELATED_TO]->(:SERVER)\n",
            "(:PERSON)-[:RELATED_TO]->(:SETTING)\n",
            "(:PERSON)-[:RELATED_TO]->(:SYSTEM_SETTING)\n",
            "(:PERSON)-[:RELATED_TO]->(:TASK)\n",
            "(:PERSON)-[:RELATED_TO]->(:TECHNOLOGY)\n",
            "(:PERSON)-[:RELATED_TO]->(:TICKET)\n",
            "(:PERSON)-[:RELATED_TO]->(:REQUEST)\n",
            "(:PERSON)-[:RELATED_TO]->(:RESOURCE)\n",
            "(:PERSON)-[:RELATED_TO]->(:LOCATION)\n",
            "(:PERSON)-[:RELATED_TO]->(:WEBSITE)\n",
            "(:PERSON)-[:RELATED_TO]->(:CALENDAR)\n",
            "(:RESOURCE)-[:RELATED_TO]->(:Person)\n",
            "(:SOFTWARE)-[:RELATED_TO]->(:ERROR)\n",
            "(:SOFTWARE)-[:RELATED_TO]->(:PERSON)\n",
            "(:SOFTWARE)-[:RELATED_TO]->(:DEVICE_PART)\n",
            "(:SOFTWARE)-[:RELATED_TO]->(:SOFTWARE)\n",
            "(:SYSTEM)-[:RELATED_TO]->(:Person)\n",
            "(:SYSTEM)-[:RELATED_TO]->(:PERSON)\n",
            "(:TECHNOLOGY)-[:RELATED_TO]->(:ORGANIZATION)\n",
            "(:TICKET)-[:RELATED_TO]->(:ORGANIZATION)\n",
            "(:WEBSITE)-[:RELATED_TO]->(:Person)\n",
            "(:WEBSITE)-[:RELATED_TO]->(:TECHNOLOGY)\n"
          ]
        }
      ]
    },
    {
      "cell_type": "code",
      "source": [
        "def neo4j_vector_search(question):\n",
        "  question_embedding = get_text_embedding(question)\n",
        "  \"\"\"Search for similar nodes using the Neo4j vector index\"\"\"\n",
        "  vector_search_query = \"\"\"\n",
        "    WITH $question_embedding AS question_embedding\n",
        "    CALL db.index.vector.queryNodes($index_name, $top_k, question_embedding) yield node, score\n",
        "    RETURN score, node.text AS text\n",
        "  \"\"\"\n",
        "  similar = kg.query(vector_search_query,\n",
        "                     params={\n",
        "                      'index_name':VECTOR_INDEX_NAME,\n",
        "                      'top_k': 10,\n",
        "                      'question_embedding': question_embedding\n",
        "                      })\n",
        "  return similar"
      ],
      "metadata": {
        "id": "muEt54Fs4DCx"
      },
      "execution_count": 101,
      "outputs": []
    },
    {
      "cell_type": "code",
      "source": [
        "search_results = neo4j_vector_search(\n",
        "    'Failed creating scheduler.'\n",
        ")"
      ],
      "metadata": {
        "id": "8pddOD2659tw"
      },
      "execution_count": 104,
      "outputs": []
    },
    {
      "cell_type": "code",
      "source": [
        "search_results[0]"
      ],
      "metadata": {
        "colab": {
          "base_uri": "https://localhost:8080/"
        },
        "id": "I_XcWlcL7Xcz",
        "outputId": "0ee992fc-f742-407e-b0e6-46400c8e7054"
      },
      "execution_count": 105,
      "outputs": [
        {
          "output_type": "execute_result",
          "data": {
            "text/plain": [
              "{'score': 0.8661801815032959,\n",
              " 'text': 'Failed creating reader to topic in scheduler\\npod log\\n\\nWhen deploying AWS in a shared OPTIC Data Lake environment with Operations Bridge as provider, an error was encountered in the\\nscheduler pod NFS logs.'}"
            ]
          },
          "metadata": {},
          "execution_count": 105
        }
      ]
    }
  ]
}