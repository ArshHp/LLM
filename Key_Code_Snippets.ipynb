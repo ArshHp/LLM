{
  "nbformat": 4,
  "nbformat_minor": 0,
  "metadata": {
    "colab": {
      "provenance": [],
      "authorship_tag": "ABX9TyOm0/Yf2x+e76ElACAdQW2O",
      "include_colab_link": true
    },
    "kernelspec": {
      "name": "python3",
      "display_name": "Python 3"
    },
    "language_info": {
      "name": "python"
    }
  },
  "cells": [
    {
      "cell_type": "markdown",
      "metadata": {
        "id": "view-in-github",
        "colab_type": "text"
      },
      "source": [
        "<a href=\"https://colab.research.google.com/github/ArshHp/LLM/blob/main/Key_Code_Snippets.ipynb\" target=\"_parent\"><img src=\"https://colab.research.google.com/assets/colab-badge.svg\" alt=\"Open In Colab\"/></a>"
      ]
    },
    {
      "cell_type": "code",
      "execution_count": null,
      "metadata": {
        "id": "lNzgSE7Y1CK7"
      },
      "outputs": [],
      "source": []
    },
    {
      "cell_type": "code",
      "source": [
        "#Usage: %%capture is typically placed at the beginning of a code cell in a Jupyter Notebook.\n",
        "\n",
        "#Purpose:\n",
        "\n",
        "#Suppress Output: If you don't want to display the output of a particular cell, you can use %%capture to prevent it from being shown.\n",
        "#Capture Output: It allows you to store the output of the code cell into a variable for further processing or analysis.\n",
        "\n",
        "#The [options] are additional parameters that can be provided to control the behavior of capturing. Common options include:\n",
        "\n",
        "#--no-stdout: Do not capture stdout.\n",
        "#--no-stderr: Do not capture stderr.\n",
        "#--no-display: Do not display output.\n",
        "#Accessing Captured Output:\n",
        "\n",
        "#After executing the cell with %%capture, the captured output will be stored in the variable\n",
        "\n",
        "#E.g. %%capture captured_output\n",
        "\n",
        "#Use Cases:\n",
        "\n",
        "#Testing: When running tests in notebooks, you might not want to clutter the notebook with the output of each test.\n",
        "#Long-Running Processes: If a code cell performs a time-consuming computation or generates a large amount of output, you may want to suppress that output.\n",
        "#Logging: Capturing output for logging purposes or for further analysis.\n",
        "\n",
        "%%capture captured_output\n",
        "print(\"This output will be captured\")\n"
      ],
      "metadata": {
        "id": "uFbhLUFu1qEO"
      },
      "execution_count": 2,
      "outputs": []
    },
    {
      "cell_type": "code",
      "source": [
        "print (captured_output)"
      ],
      "metadata": {
        "colab": {
          "base_uri": "https://localhost:8080/"
        },
        "id": "1Nlx77X82cIJ",
        "outputId": "95be1fa7-c180-4549-9ba8-dd213b1bbbdb"
      },
      "execution_count": 3,
      "outputs": [
        {
          "output_type": "stream",
          "name": "stdout",
          "text": [
            "This output will be captured\n",
            "\n"
          ]
        }
      ]
    },
    {
      "cell_type": "code",
      "source": [
        "#Snippet#2"
      ],
      "metadata": {
        "id": "74oSFZy_2itU"
      },
      "execution_count": null,
      "outputs": []
    },
    {
      "cell_type": "code",
      "source": [
        "#@title Show final memory and time stats\n",
        "used_memory = round(torch.cuda.max_memory_reserved() / 1024 / 1024 / 1024, 3)\n",
        "used_memory_for_lora = round(used_memory - start_gpu_memory, 3)\n",
        "used_percentage = round(used_memory         /max_memory*100, 3)\n",
        "lora_percentage = round(used_memory_for_lora/max_memory*100, 3)\n",
        "print(f\"{trainer_stats.metrics['train_runtime']} seconds used for training.\")\n",
        "print(f\"{round(trainer_stats.metrics['train_runtime']/60, 2)} minutes used for training.\")\n",
        "print(f\"Peak reserved memory = {used_memory} GB.\")\n",
        "print(f\"Peak reserved memory for training = {used_memory_for_lora} GB.\")\n",
        "print(f\"Peak reserved memory % of max memory = {used_percentage} %.\")\n",
        "print(f\"Peak reserved memory for training % of max memory = {lora_percentage} %.\")"
      ],
      "metadata": {
        "id": "ilF9E0B62lzA"
      },
      "execution_count": null,
      "outputs": []
    }
  ]
}