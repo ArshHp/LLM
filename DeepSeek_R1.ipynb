{
  "nbformat": 4,
  "nbformat_minor": 0,
  "metadata": {
    "colab": {
      "provenance": [],
      "include_colab_link": true
    },
    "kernelspec": {
      "name": "python3",
      "display_name": "Python 3"
    },
    "language_info": {
      "name": "python"
    }
  },
  "cells": [
    {
      "cell_type": "markdown",
      "metadata": {
        "id": "view-in-github",
        "colab_type": "text"
      },
      "source": [
        "<a href=\"https://colab.research.google.com/github/ArshHp/LLM/blob/main/DeepSeek_R1.ipynb\" target=\"_parent\"><img src=\"https://colab.research.google.com/assets/colab-badge.svg\" alt=\"Open In Colab\"/></a>"
      ]
    },
    {
      "cell_type": "code",
      "execution_count": 1,
      "metadata": {
        "id": "N3Hi3VeJrgiH",
        "colab": {
          "base_uri": "https://localhost:8080/"
        },
        "outputId": "e76e02f3-a4a5-4760-a38a-f1b8a10c6287"
      },
      "outputs": [
        {
          "output_type": "stream",
          "name": "stdout",
          "text": [
            "\u001b[?25l   \u001b[90m━━━━━━━━━━━━━━━━━━━━━━━━━━━━━━━━━━━━━━━━\u001b[0m \u001b[32m0.0/109.6 kB\u001b[0m \u001b[31m?\u001b[0m eta \u001b[36m-:--:--\u001b[0m\r\u001b[2K   \u001b[91m━━━━━━━━━━━━━━━━━━━━━━━━━━━━━━━━━━━━━\u001b[0m\u001b[90m╺\u001b[0m\u001b[90m━━\u001b[0m \u001b[32m102.4/109.6 kB\u001b[0m \u001b[31m5.2 MB/s\u001b[0m eta \u001b[36m0:00:01\u001b[0m\r\u001b[2K   \u001b[90m━━━━━━━━━━━━━━━━━━━━━━━━━━━━━━━━━━━━━━━━\u001b[0m \u001b[32m109.6/109.6 kB\u001b[0m \u001b[31m2.8 MB/s\u001b[0m eta \u001b[36m0:00:00\u001b[0m\n",
            "\u001b[?25h"
          ]
        }
      ],
      "source": [
        "!pip install -q groq"
      ]
    },
    {
      "cell_type": "code",
      "source": [
        "import os\n",
        "from google.colab import userdata\n",
        "\n",
        "os.environ[\"GROQ_API_KEY\"] = userdata.get('GROQ_API_KEY')"
      ],
      "metadata": {
        "id": "fFkPcBIkrhji"
      },
      "execution_count": 2,
      "outputs": []
    },
    {
      "cell_type": "code",
      "source": [
        "from groq import Groq\n",
        "\n",
        "client = Groq()\n",
        "completion = client.chat.completions.create(\n",
        "    model=\"deepseek-r1-distill-llama-70b\",\n",
        "    messages=[\n",
        "        {\n",
        "            \"role\": \"user\",\n",
        "            \"content\": \"Create a fibonacci series using python?\"\n",
        "        }\n",
        "    ],\n",
        "    temperature=0.6,\n",
        "    top_p=0.95,\n",
        "    stream=True\n",
        ")\n",
        "\n",
        "for chunk in completion:\n",
        "    print(chunk.choices[0].delta.content or \"\", end=\"\")"
      ],
      "metadata": {
        "id": "WS1mM_a2rjeN",
        "colab": {
          "base_uri": "https://localhost:8080/"
        },
        "outputId": "994561ef-ac7d-4d53-8311-59e2b1a982cc"
      },
      "execution_count": 3,
      "outputs": [
        {
          "output_type": "stream",
          "name": "stdout",
          "text": [
            "<think>\n",
            "Okay, I need to create a Fibonacci series using Python. Hmm, I remember the Fibonacci sequence is where each number is the sum of the two preceding ones. So it starts with 0 and 1, right? Then each next number is 0+1=1, then 1+1=2, then 1+2=3, and so on.\n",
            "\n",
            "Wait, sometimes I've seen it start with 1 and 1 instead of 0 and 1. I should clarify that. Oh well, maybe the example can start with 0 and 1 for simplicity.\n",
            "\n",
            "So, how do I generate this in Python? I think I can use a loop. Let me think about the steps. First, I'll need to initialize the first two numbers, a and b, as 0 and 1. Then, for each iteration, I'll add them to get the next number.\n",
            "\n",
            "I should also ask the user how many terms they want in the series. That way, the program is flexible. So I'll start by getting an input from the user, maybe using input(), and convert it to an integer.\n",
            "\n",
            "Once I have the number of terms, I can start generating the series. I'll create a list to store the Fibonacci numbers. The first two terms are 0 and 1, so if the user asks for 1 term, it's just [0], for 2 terms, [0, 1], and so on.\n",
            "\n",
            "Wait, but if the user enters 0 or a negative number, I should handle that. Maybe add a condition to check if n is less than 1 and print a message saying to enter a positive integer.\n",
            "\n",
            "So the steps are:\n",
            "\n",
            "1. Get user input for the number of terms.\n",
            "2. Validate the input to ensure it's a positive integer.\n",
            "3. Initialize the first two terms, a = 0, b = 1.\n",
            "4. Create a list to hold the series.\n",
            "5. Loop for the number of terms:\n",
            "   a. Append a to the list.\n",
            "   b. Calculate the next term as a + b.\n",
            "   c. Update a to be b, and b to be the next term.\n",
            "6. Print the series.\n",
            "\n",
            "Let me think about the loop structure. If n is 1, we just append a once. For each iteration, we add a to the list and then update a and b.\n",
            "\n",
            "Testing this logic with n=10 should give the series up to the 10th term. Let me see:\n",
            "\n",
            "Term 1: 0\n",
            "Term 2: 1\n",
            "Term 3: 1\n",
            "Term 4: 2\n",
            "Term 5: 3\n",
            "Term 6: 5\n",
            "Term 7: 8\n",
            "Term 8: 13\n",
            "Term 9: 21\n",
            "Term 10: 34\n",
            "\n",
            "So the list should be [0, 1, 1, 2, 3, 5, 8, 13, 21, 34].\n",
            "\n",
            "I think this logic should work. Now, I'll write the code step by step, making sure to handle invalid inputs and include comments for clarity.\n",
            "</think>\n",
            "\n",
            "To create a Fibonacci series in Python, follow these steps:\n",
            "\n",
            "1. **Get User Input**: Ask the user how many terms they want in the series.\n",
            "2. **Input Validation**: Ensure the input is a positive integer.\n",
            "3. **Initialize Variables**: Start with the first two Fibonacci numbers, 0 and 1.\n",
            "4. **Generate the Series**: Use a loop to calculate each subsequent Fibonacci number and store it in a list.\n",
            "5. **Display the Series**: Print the generated Fibonacci series.\n",
            "\n",
            "Here's the Python code implementing these steps:\n",
            "\n",
            "```python\n",
            "# Get the number of terms from the user\n",
            "n = int(input(\"Enter the number of terms: \"))\n",
            "\n",
            "# Handle invalid input\n",
            "if n < 1:\n",
            "    print(\"Please enter a positive integer.\")\n",
            "else:\n",
            "    # Initialize the first two Fibonacci numbers\n",
            "    a, b = 0, 1\n",
            "    fibonacci_series = []\n",
            "    \n",
            "    # Generate the Fibonacci series\n",
            "    for _ in range(n):\n",
            "        fibonacci_series.append(a)\n",
            "        a, b = b, a + b\n",
            "    \n",
            "    # Print the series\n",
            "    print(\"Fibonacci Series:\", fibonacci_series)\n",
            "```\n",
            "\n",
            "**Example Output**:\n",
            "```\n",
            "Enter the number of terms: 10\n",
            "Fibonacci Series: [0, 1, 1, 2, 3, 5, 8, 13, 21, 34]\n",
            "```\n",
            "\n",
            "This code efficiently generates the Fibonacci series up to the specified number of terms, handling invalid inputs gracefully."
          ]
        }
      ]
    },
    {
      "cell_type": "code",
      "source": [
        "from groq import Groq\n",
        "\n",
        "client = Groq()\n",
        "completion = client.chat.completions.create(\n",
        "    model=\"llama-3.3-70b-versatile\",\n",
        "    messages=[\n",
        "        {\n",
        "            \"role\": \"user\",\n",
        "            \"content\": \"Create a fibonacci series using python?\"\n",
        "        }\n",
        "    ],\n",
        "    temperature=0.6,\n",
        "    top_p=0.95,\n",
        "    stream=True\n",
        ")\n",
        "\n",
        "for chunk in completion:\n",
        "    print(chunk.choices[0].delta.content or \"\", end=\"\")"
      ],
      "metadata": {
        "colab": {
          "base_uri": "https://localhost:8080/"
        },
        "id": "eQgAtJrfIEnB",
        "outputId": "aa7462f7-988a-4c8c-ad09-561c748ad0b1"
      },
      "execution_count": 4,
      "outputs": [
        {
          "output_type": "stream",
          "name": "stdout",
          "text": [
            "**Fibonacci Series in Python**\n",
            "================================\n",
            "\n",
            "The Fibonacci series is a series of numbers in which each number is the sum of the two preceding ones, usually starting with 0 and 1.\n",
            "\n",
            "**Code**\n",
            "--------\n",
            "\n",
            "```python\n",
            "def fibonacci(n):\n",
            "    \"\"\"\n",
            "    Generate a Fibonacci series up to the nth term.\n",
            "\n",
            "    Args:\n",
            "        n (int): The number of terms in the series.\n",
            "\n",
            "    Returns:\n",
            "        list: A list of Fibonacci numbers.\n",
            "    \"\"\"\n",
            "    fib_series = [0, 1]\n",
            "    while len(fib_series) < n:\n",
            "        fib_series.append(fib_series[-1] + fib_series[-2])\n",
            "    return fib_series\n",
            "\n",
            "# Example usage\n",
            "n = 10\n",
            "print(f\"Fibonacci series up to {n} terms:\")\n",
            "print(fibonacci(n))\n",
            "```\n",
            "\n",
            "**Explanation**\n",
            "---------------\n",
            "\n",
            "1. The `fibonacci` function takes an integer `n` as input, representing the number of terms in the series.\n",
            "2. The function initializes a list `fib_series` with the first two Fibonacci numbers, 0 and 1.\n",
            "3. The function enters a loop that continues until the length of `fib_series` reaches `n`.\n",
            "4. In each iteration, the function appends the sum of the last two numbers in `fib_series` to the end of the list.\n",
            "5. The function returns the completed `fib_series` list.\n",
            "\n",
            "**Output**\n",
            "----------\n",
            "\n",
            "```\n",
            "Fibonacci series up to 10 terms:\n",
            "[0, 1, 1, 2, 3, 5, 8, 13, 21, 34]\n",
            "```\n",
            "\n",
            "**Alternative Implementation**\n",
            "-----------------------------\n",
            "\n",
            "You can also use a recursive approach to generate the Fibonacci series:\n",
            "\n",
            "```python\n",
            "def fibonacci_recursive(n):\n",
            "    if n <= 1:\n",
            "        return n\n",
            "    return fibonacci_recursive(n-1) + fibonacci_recursive(n-2)\n",
            "\n",
            "# Example usage\n",
            "n = 10\n",
            "fib_series = [fibonacci_recursive(i) for i in range(n)]\n",
            "print(fib_series)\n",
            "```\n",
            "\n",
            "However, please note that the recursive implementation has a higher time complexity (O(2^n)) compared to the iterative approach (O(n))."
          ]
        }
      ]
    },
    {
      "cell_type": "code",
      "source": [
        "from groq import Groq\n",
        "\n",
        "client = Groq()\n",
        "completion = client.chat.completions.create(\n",
        "    model=\"llama-3.1-8b-instant\",\n",
        "    messages=[\n",
        "        {\n",
        "            \"role\": \"user\",\n",
        "            \"content\": \"Create a fibonacci series using python?\"\n",
        "        }\n",
        "    ],\n",
        "    temperature=0.6,\n",
        "    top_p=0.95,\n",
        "    stream=True\n",
        ")\n",
        "\n",
        "for chunk in completion:\n",
        "    print(chunk.choices[0].delta.content or \"\", end=\"\")"
      ],
      "metadata": {
        "colab": {
          "base_uri": "https://localhost:8080/"
        },
        "id": "YuMUAc-6Ih36",
        "outputId": "7f79c253-92fa-4752-d269-1b4ca33921b6"
      },
      "execution_count": 5,
      "outputs": [
        {
          "output_type": "stream",
          "name": "stdout",
          "text": [
            "**Fibonacci Series in Python**\n",
            "================================\n",
            "\n",
            "The Fibonacci series is a series of numbers where a number is the addition of the last two numbers, starting with 0 and 1.\n",
            "\n",
            "**Code**\n",
            "--------\n",
            "\n",
            "```python\n",
            "def fibonacci(n):\n",
            "    \"\"\"\n",
            "    Generate the Fibonacci series up to the nth term.\n",
            "\n",
            "    Args:\n",
            "        n (int): The number of terms in the series.\n",
            "\n",
            "    Returns:\n",
            "        list: A list of Fibonacci numbers.\n",
            "    \"\"\"\n",
            "    fib_series = [0, 1]\n",
            "    while len(fib_series) < n:\n",
            "        fib_series.append(fib_series[-1] + fib_series[-2])\n",
            "    return fib_series[:n]\n",
            "\n",
            "# Example usage\n",
            "n = 10\n",
            "print(f\"Fibonacci series up to {n} terms:\")\n",
            "print(fibonacci(n))\n",
            "```\n",
            "\n",
            "**Explanation**\n",
            "---------------\n",
            "\n",
            "1. The function `fibonacci(n)` takes an integer `n` as input and returns a list of Fibonacci numbers up to the `n`th term.\n",
            "2. We initialize the `fib_series` list with the first two Fibonacci numbers, 0 and 1.\n",
            "3. We use a while loop to generate the remaining Fibonacci numbers. In each iteration, we append the sum of the last two numbers in the list to the list.\n",
            "4. Once we have generated `n` numbers, we return the list.\n",
            "5. In the example usage, we call the function with `n = 10` and print the resulting Fibonacci series.\n",
            "\n",
            "**Output**\n",
            "----------\n",
            "\n",
            "```\n",
            "Fibonacci series up to 10 terms:\n",
            "[0, 1, 1, 2, 3, 5, 8, 13, 21, 34]\n",
            "```\n",
            "\n",
            "You can adjust the value of `n` to generate Fibonacci series of different lengths."
          ]
        }
      ]
    }
  ]
}